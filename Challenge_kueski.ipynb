{
  "nbformat": 4,
  "nbformat_minor": 0,
  "metadata": {
    "colab": {
      "name": "Challenge_kueski.ipynb",
      "provenance": [],
      "toc_visible": true,
      "authorship_tag": "ABX9TyP5L9Qw/0GCYY6jODQDSgqn",
      "include_colab_link": true
    },
    "kernelspec": {
      "name": "python3",
      "display_name": "Python 3"
    },
    "language_info": {
      "name": "python"
    }
  },
  "cells": [
    {
      "cell_type": "markdown",
      "metadata": {
        "id": "view-in-github",
        "colab_type": "text"
      },
      "source": [
        "<a href=\"https://colab.research.google.com/github/Antonios0499/Challenge_idsk/blob/main/Challenge_kueski.ipynb\" target=\"_parent\"><img src=\"https://colab.research.google.com/assets/colab-badge.svg\" alt=\"Open In Colab\"/></a>"
      ]
    },
    {
      "cell_type": "markdown",
      "source": [
        "#Challenge para posición intern en kueski\n",
        "\n",
        "Este proyecto contiene la limpieza, tratamiento y exploración de un dataset con información de diversos automóviles de distintas marcas, además incluye la implementación de un modelo de regresión lineal para la predicción del precio de un automóvil en base a sus características.\n",
        "\n",
        "\n",
        "\n",
        "Antonio Soto //\n",
        "tonysoto0499@gmail.com"
      ],
      "metadata": {
        "id": "scQvDr6R14Ql"
      }
    },
    {
      "cell_type": "markdown",
      "source": [
        "##Importación de librerías y carga de dataset"
      ],
      "metadata": {
        "id": "iH8iNOCf7b83"
      }
    },
    {
      "cell_type": "code",
      "execution_count": 11,
      "metadata": {
        "id": "mopWiTy01jMi"
      },
      "outputs": [],
      "source": [
        "import pandas as pd\n",
        "import numpy as np\n",
        "import seaborn as sns\n",
        "import matplotlib.pyplot as plt\n",
        "\n",
        "\n",
        "from sklearn.model_selection import train_test_split\n",
        "from sklearn.linear_model import LinearRegression\n",
        "from sklearn import metrics\n",
        "from sklearn.preprocessing import OneHotEncoder\n",
        "from sklearn.impute import SimpleImputer\n",
        "from sklearn.pipeline import make_pipeline\n",
        "from sklearn.compose import make_column_transformer, make_column_selector"
      ]
    },
    {
      "cell_type": "code",
      "source": [
        "sns.set_theme(style=\"darkgrid\")\n",
        "sns.set_palette('Set1')"
      ],
      "metadata": {
        "id": "9YfkdfGvX3vk"
      },
      "execution_count": 12,
      "outputs": []
    },
    {
      "cell_type": "code",
      "source": [
        "data_link = 'https://github.com/Antonios0499/Challenge_idsk/raw/main/Automobile_data.csv'"
      ],
      "metadata": {
        "id": "v-ekfMwZ2hE2"
      },
      "execution_count": 13,
      "outputs": []
    },
    {
      "cell_type": "code",
      "source": [
        "data = pd.read_csv(data_link)"
      ],
      "metadata": {
        "id": "6Kg5PvCK2eMP"
      },
      "execution_count": 14,
      "outputs": []
    },
    {
      "cell_type": "code",
      "source": [
        "data"
      ],
      "metadata": {
        "colab": {
          "base_uri": "https://localhost:8080/",
          "height": 0
        },
        "id": "6sClVAdI1zXy",
        "outputId": "529e9a73-d9e7-4fda-cb65-04378b2a40aa"
      },
      "execution_count": 15,
      "outputs": [
        {
          "output_type": "execute_result",
          "data": {
            "text/plain": [
              "     symboling normalized-losses         make fuel-type aspiration  \\\n",
              "0            3                 ?  alfa-romero       gas        std   \n",
              "1            3                 ?  alfa-romero       gas        std   \n",
              "2            1                 ?  alfa-romero       gas        std   \n",
              "3            2               164         audi       gas        std   \n",
              "4            2               164         audi       gas        std   \n",
              "..         ...               ...          ...       ...        ...   \n",
              "200         -1                95        volvo       gas        std   \n",
              "201         -1                95        volvo       gas      turbo   \n",
              "202         -1                95        volvo       gas        std   \n",
              "203         -1                95        volvo    diesel      turbo   \n",
              "204         -1                95        volvo       gas      turbo   \n",
              "\n",
              "    num-of-doors   body-style drive-wheels engine-location  wheel-base  ...  \\\n",
              "0            two  convertible          rwd           front        88.6  ...   \n",
              "1            two  convertible          rwd           front        88.6  ...   \n",
              "2            two    hatchback          rwd           front        94.5  ...   \n",
              "3           four        sedan          fwd           front        99.8  ...   \n",
              "4           four        sedan          4wd           front        99.4  ...   \n",
              "..           ...          ...          ...             ...         ...  ...   \n",
              "200         four        sedan          rwd           front       109.1  ...   \n",
              "201         four        sedan          rwd           front       109.1  ...   \n",
              "202         four        sedan          rwd           front       109.1  ...   \n",
              "203         four        sedan          rwd           front       109.1  ...   \n",
              "204         four        sedan          rwd           front       109.1  ...   \n",
              "\n",
              "     engine-size  fuel-system  bore  stroke compression-ratio horsepower  \\\n",
              "0            130         mpfi  3.47    2.68               9.0        111   \n",
              "1            130         mpfi  3.47    2.68               9.0        111   \n",
              "2            152         mpfi  2.68    3.47               9.0        154   \n",
              "3            109         mpfi  3.19     3.4              10.0        102   \n",
              "4            136         mpfi  3.19     3.4               8.0        115   \n",
              "..           ...          ...   ...     ...               ...        ...   \n",
              "200          141         mpfi  3.78    3.15               9.5        114   \n",
              "201          141         mpfi  3.78    3.15               8.7        160   \n",
              "202          173         mpfi  3.58    2.87               8.8        134   \n",
              "203          145          idi  3.01     3.4              23.0        106   \n",
              "204          141         mpfi  3.78    3.15               9.5        114   \n",
              "\n",
              "     peak-rpm city-mpg highway-mpg  price  \n",
              "0        5000       21          27  13495  \n",
              "1        5000       21          27  16500  \n",
              "2        5000       19          26  16500  \n",
              "3        5500       24          30  13950  \n",
              "4        5500       18          22  17450  \n",
              "..        ...      ...         ...    ...  \n",
              "200      5400       23          28  16845  \n",
              "201      5300       19          25  19045  \n",
              "202      5500       18          23  21485  \n",
              "203      4800       26          27  22470  \n",
              "204      5400       19          25  22625  \n",
              "\n",
              "[205 rows x 26 columns]"
            ],
            "text/html": [
              "\n",
              "  <div id=\"df-c839a3cc-669e-4ef7-a832-5e2fa7d3ccfb\">\n",
              "    <div class=\"colab-df-container\">\n",
              "      <div>\n",
              "<style scoped>\n",
              "    .dataframe tbody tr th:only-of-type {\n",
              "        vertical-align: middle;\n",
              "    }\n",
              "\n",
              "    .dataframe tbody tr th {\n",
              "        vertical-align: top;\n",
              "    }\n",
              "\n",
              "    .dataframe thead th {\n",
              "        text-align: right;\n",
              "    }\n",
              "</style>\n",
              "<table border=\"1\" class=\"dataframe\">\n",
              "  <thead>\n",
              "    <tr style=\"text-align: right;\">\n",
              "      <th></th>\n",
              "      <th>symboling</th>\n",
              "      <th>normalized-losses</th>\n",
              "      <th>make</th>\n",
              "      <th>fuel-type</th>\n",
              "      <th>aspiration</th>\n",
              "      <th>num-of-doors</th>\n",
              "      <th>body-style</th>\n",
              "      <th>drive-wheels</th>\n",
              "      <th>engine-location</th>\n",
              "      <th>wheel-base</th>\n",
              "      <th>...</th>\n",
              "      <th>engine-size</th>\n",
              "      <th>fuel-system</th>\n",
              "      <th>bore</th>\n",
              "      <th>stroke</th>\n",
              "      <th>compression-ratio</th>\n",
              "      <th>horsepower</th>\n",
              "      <th>peak-rpm</th>\n",
              "      <th>city-mpg</th>\n",
              "      <th>highway-mpg</th>\n",
              "      <th>price</th>\n",
              "    </tr>\n",
              "  </thead>\n",
              "  <tbody>\n",
              "    <tr>\n",
              "      <th>0</th>\n",
              "      <td>3</td>\n",
              "      <td>?</td>\n",
              "      <td>alfa-romero</td>\n",
              "      <td>gas</td>\n",
              "      <td>std</td>\n",
              "      <td>two</td>\n",
              "      <td>convertible</td>\n",
              "      <td>rwd</td>\n",
              "      <td>front</td>\n",
              "      <td>88.6</td>\n",
              "      <td>...</td>\n",
              "      <td>130</td>\n",
              "      <td>mpfi</td>\n",
              "      <td>3.47</td>\n",
              "      <td>2.68</td>\n",
              "      <td>9.0</td>\n",
              "      <td>111</td>\n",
              "      <td>5000</td>\n",
              "      <td>21</td>\n",
              "      <td>27</td>\n",
              "      <td>13495</td>\n",
              "    </tr>\n",
              "    <tr>\n",
              "      <th>1</th>\n",
              "      <td>3</td>\n",
              "      <td>?</td>\n",
              "      <td>alfa-romero</td>\n",
              "      <td>gas</td>\n",
              "      <td>std</td>\n",
              "      <td>two</td>\n",
              "      <td>convertible</td>\n",
              "      <td>rwd</td>\n",
              "      <td>front</td>\n",
              "      <td>88.6</td>\n",
              "      <td>...</td>\n",
              "      <td>130</td>\n",
              "      <td>mpfi</td>\n",
              "      <td>3.47</td>\n",
              "      <td>2.68</td>\n",
              "      <td>9.0</td>\n",
              "      <td>111</td>\n",
              "      <td>5000</td>\n",
              "      <td>21</td>\n",
              "      <td>27</td>\n",
              "      <td>16500</td>\n",
              "    </tr>\n",
              "    <tr>\n",
              "      <th>2</th>\n",
              "      <td>1</td>\n",
              "      <td>?</td>\n",
              "      <td>alfa-romero</td>\n",
              "      <td>gas</td>\n",
              "      <td>std</td>\n",
              "      <td>two</td>\n",
              "      <td>hatchback</td>\n",
              "      <td>rwd</td>\n",
              "      <td>front</td>\n",
              "      <td>94.5</td>\n",
              "      <td>...</td>\n",
              "      <td>152</td>\n",
              "      <td>mpfi</td>\n",
              "      <td>2.68</td>\n",
              "      <td>3.47</td>\n",
              "      <td>9.0</td>\n",
              "      <td>154</td>\n",
              "      <td>5000</td>\n",
              "      <td>19</td>\n",
              "      <td>26</td>\n",
              "      <td>16500</td>\n",
              "    </tr>\n",
              "    <tr>\n",
              "      <th>3</th>\n",
              "      <td>2</td>\n",
              "      <td>164</td>\n",
              "      <td>audi</td>\n",
              "      <td>gas</td>\n",
              "      <td>std</td>\n",
              "      <td>four</td>\n",
              "      <td>sedan</td>\n",
              "      <td>fwd</td>\n",
              "      <td>front</td>\n",
              "      <td>99.8</td>\n",
              "      <td>...</td>\n",
              "      <td>109</td>\n",
              "      <td>mpfi</td>\n",
              "      <td>3.19</td>\n",
              "      <td>3.4</td>\n",
              "      <td>10.0</td>\n",
              "      <td>102</td>\n",
              "      <td>5500</td>\n",
              "      <td>24</td>\n",
              "      <td>30</td>\n",
              "      <td>13950</td>\n",
              "    </tr>\n",
              "    <tr>\n",
              "      <th>4</th>\n",
              "      <td>2</td>\n",
              "      <td>164</td>\n",
              "      <td>audi</td>\n",
              "      <td>gas</td>\n",
              "      <td>std</td>\n",
              "      <td>four</td>\n",
              "      <td>sedan</td>\n",
              "      <td>4wd</td>\n",
              "      <td>front</td>\n",
              "      <td>99.4</td>\n",
              "      <td>...</td>\n",
              "      <td>136</td>\n",
              "      <td>mpfi</td>\n",
              "      <td>3.19</td>\n",
              "      <td>3.4</td>\n",
              "      <td>8.0</td>\n",
              "      <td>115</td>\n",
              "      <td>5500</td>\n",
              "      <td>18</td>\n",
              "      <td>22</td>\n",
              "      <td>17450</td>\n",
              "    </tr>\n",
              "    <tr>\n",
              "      <th>...</th>\n",
              "      <td>...</td>\n",
              "      <td>...</td>\n",
              "      <td>...</td>\n",
              "      <td>...</td>\n",
              "      <td>...</td>\n",
              "      <td>...</td>\n",
              "      <td>...</td>\n",
              "      <td>...</td>\n",
              "      <td>...</td>\n",
              "      <td>...</td>\n",
              "      <td>...</td>\n",
              "      <td>...</td>\n",
              "      <td>...</td>\n",
              "      <td>...</td>\n",
              "      <td>...</td>\n",
              "      <td>...</td>\n",
              "      <td>...</td>\n",
              "      <td>...</td>\n",
              "      <td>...</td>\n",
              "      <td>...</td>\n",
              "      <td>...</td>\n",
              "    </tr>\n",
              "    <tr>\n",
              "      <th>200</th>\n",
              "      <td>-1</td>\n",
              "      <td>95</td>\n",
              "      <td>volvo</td>\n",
              "      <td>gas</td>\n",
              "      <td>std</td>\n",
              "      <td>four</td>\n",
              "      <td>sedan</td>\n",
              "      <td>rwd</td>\n",
              "      <td>front</td>\n",
              "      <td>109.1</td>\n",
              "      <td>...</td>\n",
              "      <td>141</td>\n",
              "      <td>mpfi</td>\n",
              "      <td>3.78</td>\n",
              "      <td>3.15</td>\n",
              "      <td>9.5</td>\n",
              "      <td>114</td>\n",
              "      <td>5400</td>\n",
              "      <td>23</td>\n",
              "      <td>28</td>\n",
              "      <td>16845</td>\n",
              "    </tr>\n",
              "    <tr>\n",
              "      <th>201</th>\n",
              "      <td>-1</td>\n",
              "      <td>95</td>\n",
              "      <td>volvo</td>\n",
              "      <td>gas</td>\n",
              "      <td>turbo</td>\n",
              "      <td>four</td>\n",
              "      <td>sedan</td>\n",
              "      <td>rwd</td>\n",
              "      <td>front</td>\n",
              "      <td>109.1</td>\n",
              "      <td>...</td>\n",
              "      <td>141</td>\n",
              "      <td>mpfi</td>\n",
              "      <td>3.78</td>\n",
              "      <td>3.15</td>\n",
              "      <td>8.7</td>\n",
              "      <td>160</td>\n",
              "      <td>5300</td>\n",
              "      <td>19</td>\n",
              "      <td>25</td>\n",
              "      <td>19045</td>\n",
              "    </tr>\n",
              "    <tr>\n",
              "      <th>202</th>\n",
              "      <td>-1</td>\n",
              "      <td>95</td>\n",
              "      <td>volvo</td>\n",
              "      <td>gas</td>\n",
              "      <td>std</td>\n",
              "      <td>four</td>\n",
              "      <td>sedan</td>\n",
              "      <td>rwd</td>\n",
              "      <td>front</td>\n",
              "      <td>109.1</td>\n",
              "      <td>...</td>\n",
              "      <td>173</td>\n",
              "      <td>mpfi</td>\n",
              "      <td>3.58</td>\n",
              "      <td>2.87</td>\n",
              "      <td>8.8</td>\n",
              "      <td>134</td>\n",
              "      <td>5500</td>\n",
              "      <td>18</td>\n",
              "      <td>23</td>\n",
              "      <td>21485</td>\n",
              "    </tr>\n",
              "    <tr>\n",
              "      <th>203</th>\n",
              "      <td>-1</td>\n",
              "      <td>95</td>\n",
              "      <td>volvo</td>\n",
              "      <td>diesel</td>\n",
              "      <td>turbo</td>\n",
              "      <td>four</td>\n",
              "      <td>sedan</td>\n",
              "      <td>rwd</td>\n",
              "      <td>front</td>\n",
              "      <td>109.1</td>\n",
              "      <td>...</td>\n",
              "      <td>145</td>\n",
              "      <td>idi</td>\n",
              "      <td>3.01</td>\n",
              "      <td>3.4</td>\n",
              "      <td>23.0</td>\n",
              "      <td>106</td>\n",
              "      <td>4800</td>\n",
              "      <td>26</td>\n",
              "      <td>27</td>\n",
              "      <td>22470</td>\n",
              "    </tr>\n",
              "    <tr>\n",
              "      <th>204</th>\n",
              "      <td>-1</td>\n",
              "      <td>95</td>\n",
              "      <td>volvo</td>\n",
              "      <td>gas</td>\n",
              "      <td>turbo</td>\n",
              "      <td>four</td>\n",
              "      <td>sedan</td>\n",
              "      <td>rwd</td>\n",
              "      <td>front</td>\n",
              "      <td>109.1</td>\n",
              "      <td>...</td>\n",
              "      <td>141</td>\n",
              "      <td>mpfi</td>\n",
              "      <td>3.78</td>\n",
              "      <td>3.15</td>\n",
              "      <td>9.5</td>\n",
              "      <td>114</td>\n",
              "      <td>5400</td>\n",
              "      <td>19</td>\n",
              "      <td>25</td>\n",
              "      <td>22625</td>\n",
              "    </tr>\n",
              "  </tbody>\n",
              "</table>\n",
              "<p>205 rows × 26 columns</p>\n",
              "</div>\n",
              "      <button class=\"colab-df-convert\" onclick=\"convertToInteractive('df-c839a3cc-669e-4ef7-a832-5e2fa7d3ccfb')\"\n",
              "              title=\"Convert this dataframe to an interactive table.\"\n",
              "              style=\"display:none;\">\n",
              "        \n",
              "  <svg xmlns=\"http://www.w3.org/2000/svg\" height=\"24px\"viewBox=\"0 0 24 24\"\n",
              "       width=\"24px\">\n",
              "    <path d=\"M0 0h24v24H0V0z\" fill=\"none\"/>\n",
              "    <path d=\"M18.56 5.44l.94 2.06.94-2.06 2.06-.94-2.06-.94-.94-2.06-.94 2.06-2.06.94zm-11 1L8.5 8.5l.94-2.06 2.06-.94-2.06-.94L8.5 2.5l-.94 2.06-2.06.94zm10 10l.94 2.06.94-2.06 2.06-.94-2.06-.94-.94-2.06-.94 2.06-2.06.94z\"/><path d=\"M17.41 7.96l-1.37-1.37c-.4-.4-.92-.59-1.43-.59-.52 0-1.04.2-1.43.59L10.3 9.45l-7.72 7.72c-.78.78-.78 2.05 0 2.83L4 21.41c.39.39.9.59 1.41.59.51 0 1.02-.2 1.41-.59l7.78-7.78 2.81-2.81c.8-.78.8-2.07 0-2.86zM5.41 20L4 18.59l7.72-7.72 1.47 1.35L5.41 20z\"/>\n",
              "  </svg>\n",
              "      </button>\n",
              "      \n",
              "  <style>\n",
              "    .colab-df-container {\n",
              "      display:flex;\n",
              "      flex-wrap:wrap;\n",
              "      gap: 12px;\n",
              "    }\n",
              "\n",
              "    .colab-df-convert {\n",
              "      background-color: #E8F0FE;\n",
              "      border: none;\n",
              "      border-radius: 50%;\n",
              "      cursor: pointer;\n",
              "      display: none;\n",
              "      fill: #1967D2;\n",
              "      height: 32px;\n",
              "      padding: 0 0 0 0;\n",
              "      width: 32px;\n",
              "    }\n",
              "\n",
              "    .colab-df-convert:hover {\n",
              "      background-color: #E2EBFA;\n",
              "      box-shadow: 0px 1px 2px rgba(60, 64, 67, 0.3), 0px 1px 3px 1px rgba(60, 64, 67, 0.15);\n",
              "      fill: #174EA6;\n",
              "    }\n",
              "\n",
              "    [theme=dark] .colab-df-convert {\n",
              "      background-color: #3B4455;\n",
              "      fill: #D2E3FC;\n",
              "    }\n",
              "\n",
              "    [theme=dark] .colab-df-convert:hover {\n",
              "      background-color: #434B5C;\n",
              "      box-shadow: 0px 1px 3px 1px rgba(0, 0, 0, 0.15);\n",
              "      filter: drop-shadow(0px 1px 2px rgba(0, 0, 0, 0.3));\n",
              "      fill: #FFFFFF;\n",
              "    }\n",
              "  </style>\n",
              "\n",
              "      <script>\n",
              "        const buttonEl =\n",
              "          document.querySelector('#df-c839a3cc-669e-4ef7-a832-5e2fa7d3ccfb button.colab-df-convert');\n",
              "        buttonEl.style.display =\n",
              "          google.colab.kernel.accessAllowed ? 'block' : 'none';\n",
              "\n",
              "        async function convertToInteractive(key) {\n",
              "          const element = document.querySelector('#df-c839a3cc-669e-4ef7-a832-5e2fa7d3ccfb');\n",
              "          const dataTable =\n",
              "            await google.colab.kernel.invokeFunction('convertToInteractive',\n",
              "                                                     [key], {});\n",
              "          if (!dataTable) return;\n",
              "\n",
              "          const docLinkHtml = 'Like what you see? Visit the ' +\n",
              "            '<a target=\"_blank\" href=https://colab.research.google.com/notebooks/data_table.ipynb>data table notebook</a>'\n",
              "            + ' to learn more about interactive tables.';\n",
              "          element.innerHTML = '';\n",
              "          dataTable['output_type'] = 'display_data';\n",
              "          await google.colab.output.renderOutput(dataTable, element);\n",
              "          const docLink = document.createElement('div');\n",
              "          docLink.innerHTML = docLinkHtml;\n",
              "          element.appendChild(docLink);\n",
              "        }\n",
              "      </script>\n",
              "    </div>\n",
              "  </div>\n",
              "  "
            ]
          },
          "metadata": {},
          "execution_count": 15
        }
      ]
    },
    {
      "cell_type": "markdown",
      "source": [
        "El dataset en cuestión contiene información de automóviles, cuenta con 26 columnas y 205 observaciones."
      ],
      "metadata": {
        "id": "xgbIOyHn14as"
      }
    },
    {
      "cell_type": "markdown",
      "source": [
        "##Tipo de informacion"
      ],
      "metadata": {
        "id": "CSQR1zN3OBl2"
      }
    },
    {
      "cell_type": "code",
      "source": [
        "data.dtypes"
      ],
      "metadata": {
        "colab": {
          "base_uri": "https://localhost:8080/"
        },
        "id": "pmCcT2vtidxA",
        "outputId": "61cedcf8-c01a-4a63-b304-17be2e04555e"
      },
      "execution_count": 16,
      "outputs": [
        {
          "output_type": "execute_result",
          "data": {
            "text/plain": [
              "symboling              int64\n",
              "normalized-losses     object\n",
              "make                  object\n",
              "fuel-type             object\n",
              "aspiration            object\n",
              "num-of-doors          object\n",
              "body-style            object\n",
              "drive-wheels          object\n",
              "engine-location       object\n",
              "wheel-base           float64\n",
              "length               float64\n",
              "width                float64\n",
              "height               float64\n",
              "curb-weight            int64\n",
              "engine-type           object\n",
              "num-of-cylinders      object\n",
              "engine-size            int64\n",
              "fuel-system           object\n",
              "bore                  object\n",
              "stroke                object\n",
              "compression-ratio    float64\n",
              "horsepower            object\n",
              "peak-rpm              object\n",
              "city-mpg               int64\n",
              "highway-mpg            int64\n",
              "price                 object\n",
              "dtype: object"
            ]
          },
          "metadata": {},
          "execution_count": 16
        }
      ]
    },
    {
      "cell_type": "code",
      "source": [
        "data.dtypes.value_counts()"
      ],
      "metadata": {
        "colab": {
          "base_uri": "https://localhost:8080/"
        },
        "id": "MHEQUN198tK2",
        "outputId": "4a68d292-132f-4853-983a-131284539e52"
      },
      "execution_count": 17,
      "outputs": [
        {
          "output_type": "execute_result",
          "data": {
            "text/plain": [
              "object     16\n",
              "int64       5\n",
              "float64     5\n",
              "dtype: int64"
            ]
          },
          "metadata": {},
          "execution_count": 17
        }
      ]
    },
    {
      "cell_type": "markdown",
      "source": [
        "El dataset contiene tres tipos de datos, siendo estos:\n",
        "* float64\n",
        "* int64\n",
        "* object\n",
        "\n"
      ],
      "metadata": {
        "id": "dGeqeIeW3DXo"
      }
    },
    {
      "cell_type": "code",
      "source": [
        "sns.countplot(y = data.dtypes, order = data.dtypes.value_counts().index, )\n",
        "plt.title('Tipos de datos')\n",
        "plt.xlabel('Cuenta')\n",
        "plt.show()"
      ],
      "metadata": {
        "colab": {
          "base_uri": "https://localhost:8080/",
          "height": 301
        },
        "id": "HSOZbgEh5fa0",
        "outputId": "da2d0d8b-39d8-41c0-a23e-f5c0b9646878"
      },
      "execution_count": 18,
      "outputs": [
        {
          "output_type": "display_data",
          "data": {
            "text/plain": [
              "<Figure size 432x288 with 1 Axes>"
            ],
            "image/png": "[encoded data removed]"
          },
          "metadata": {}
        }
      ]
    },
    {
      "cell_type": "markdown",
      "source": [
        "Después de inspeccionar el dataset y comparar el tipo de dato de los datos existentes en las columnas, con los tipos de datos en los que están guardados, podemos observar que existen columnas que deberían cambiarse a numéricas, estas son:\n",
        "* normalized-losses.\n",
        "* bore.\n",
        "* stroke.\n",
        "* horsepower.\n",
        "* peak-rpm.\n",
        "* price."
      ],
      "metadata": {
        "id": "VVoqjG0eikfo"
      }
    },
    {
      "cell_type": "code",
      "source": [
        "#variables categóricas:\n",
        "categoricas = ['make','fuel-type','aspiration', 'num-of-doors',\n",
        "               'body-style', 'drive-wheels', 'engine-location',\n",
        "               'engine-type', 'num-of-cylinders','fuel-system']\n",
        "\n",
        "#variables a convertir a numéricas:\n",
        "numericas = ['normalized-losses','bore','stroke','horsepower','peak-rpm','price']"
      ],
      "metadata": {
        "id": "wd1zH4hz78yJ"
      },
      "execution_count": 19,
      "outputs": []
    },
    {
      "cell_type": "code",
      "source": [
        "for col in numericas:\n",
        "  pd.to_numeric(data[col])"
      ],
      "metadata": {
        "colab": {
          "base_uri": "https://localhost:8080/",
          "height": 307
        },
        "id": "U_RiwkH2fYn7",
        "outputId": "fe625922-9164-4963-bf90-38c263d81336"
      },
      "execution_count": 20,
      "outputs": [
        {
          "output_type": "error",
          "ename": "ValueError",
          "evalue": "ignored",
          "traceback": [
            "\u001b[0;31m---------------------------------------------------------------------------\u001b[0m",
            "\u001b[0;31mValueError\u001b[0m                                Traceback (most recent call last)",
            "\u001b[0;32m/usr/local/lib/python3.7/dist-packages/pandas/_libs/lib.pyx\u001b[0m in \u001b[0;36mpandas._libs.lib.maybe_convert_numeric\u001b[0;34m()\u001b[0m\n",
            "\u001b[0;31mValueError\u001b[0m: Unable to parse string \"?\"",
            "\nDuring handling of the above exception, another exception occurred:\n",
            "\u001b[0;31mValueError\u001b[0m                                Traceback (most recent call last)",
            "\u001b[0;32m<ipython-input-20-84e2e0a6225b>\u001b[0m in \u001b[0;36m<module>\u001b[0;34m()\u001b[0m\n\u001b[1;32m      1\u001b[0m \u001b[0;32mfor\u001b[0m \u001b[0mcol\u001b[0m \u001b[0;32min\u001b[0m \u001b[0mnumericas\u001b[0m\u001b[0;34m:\u001b[0m\u001b[0;34m\u001b[0m\u001b[0;34m\u001b[0m\u001b[0m\n\u001b[0;32m----> 2\u001b[0;31m   \u001b[0mpd\u001b[0m\u001b[0;34m.\u001b[0m\u001b[0mto_numeric\u001b[0m\u001b[0;34m(\u001b[0m\u001b[0mdata\u001b[0m\u001b[0;34m[\u001b[0m\u001b[0mcol\u001b[0m\u001b[0;34m]\u001b[0m\u001b[0;34m)\u001b[0m\u001b[0;34m\u001b[0m\u001b[0;34m\u001b[0m\u001b[0m\n\u001b[0m",
            "\u001b[0;32m/usr/local/lib/python3.7/dist-packages/pandas/core/tools/numeric.py\u001b[0m in \u001b[0;36mto_numeric\u001b[0;34m(arg, errors, downcast)\u001b[0m\n\u001b[1;32m    182\u001b[0m         \u001b[0;32mtry\u001b[0m\u001b[0;34m:\u001b[0m\u001b[0;34m\u001b[0m\u001b[0;34m\u001b[0m\u001b[0m\n\u001b[1;32m    183\u001b[0m             values, _ = lib.maybe_convert_numeric(\n\u001b[0;32m--> 184\u001b[0;31m                 \u001b[0mvalues\u001b[0m\u001b[0;34m,\u001b[0m \u001b[0mset\u001b[0m\u001b[0;34m(\u001b[0m\u001b[0;34m)\u001b[0m\u001b[0;34m,\u001b[0m \u001b[0mcoerce_numeric\u001b[0m\u001b[0;34m=\u001b[0m\u001b[0mcoerce_numeric\u001b[0m\u001b[0;34m\u001b[0m\u001b[0;34m\u001b[0m\u001b[0m\n\u001b[0m\u001b[1;32m    185\u001b[0m             )\n\u001b[1;32m    186\u001b[0m         \u001b[0;32mexcept\u001b[0m \u001b[0;34m(\u001b[0m\u001b[0mValueError\u001b[0m\u001b[0;34m,\u001b[0m \u001b[0mTypeError\u001b[0m\u001b[0;34m)\u001b[0m\u001b[0;34m:\u001b[0m\u001b[0;34m\u001b[0m\u001b[0;34m\u001b[0m\u001b[0m\n",
            "\u001b[0;32m/usr/local/lib/python3.7/dist-packages/pandas/_libs/lib.pyx\u001b[0m in \u001b[0;36mpandas._libs.lib.maybe_convert_numeric\u001b[0;34m()\u001b[0m\n",
            "\u001b[0;31mValueError\u001b[0m: Unable to parse string \"?\" at position 0"
          ]
        }
      ]
    },
    {
      "cell_type": "markdown",
      "source": [
        "Al tratar de convertir los datos directamente a numéricos usando Pandas, surge un error pues parece que existen datos faltantes. \n",
        "\n",
        "Después de analizar los datos faltantes podremos realizar el cambio de tipo de datos."
      ],
      "metadata": {
        "id": "gLJNj8orfvDc"
      }
    },
    {
      "cell_type": "markdown",
      "source": [
        "##Datos faltantes"
      ],
      "metadata": {
        "id": "tJEo_iis-kNP"
      }
    },
    {
      "cell_type": "code",
      "source": [
        "data.info()"
      ],
      "metadata": {
        "colab": {
          "base_uri": "https://localhost:8080/"
        },
        "id": "WvX5A1kEj7Hs",
        "outputId": "42611518-96e1-4cba-86d4-1f28b88f35ac"
      },
      "execution_count": 21,
      "outputs": [
        {
          "output_type": "stream",
          "name": "stdout",
          "text": [
            "<class 'pandas.core.frame.DataFrame'>\n",
            "RangeIndex: 205 entries, 0 to 204\n",
            "Data columns (total 26 columns):\n",
            " #   Column             Non-Null Count  Dtype  \n",
            "---  ------             --------------  -----  \n",
            " 0   symboling          205 non-null    int64  \n",
            " 1   normalized-losses  205 non-null    object \n",
            " 2   make               205 non-null    object \n",
            " 3   fuel-type          205 non-null    object \n",
            " 4   aspiration         205 non-null    object \n",
            " 5   num-of-doors       205 non-null    object \n",
            " 6   body-style         205 non-null    object \n",
            " 7   drive-wheels       205 non-null    object \n",
            " 8   engine-location    205 non-null    object \n",
            " 9   wheel-base         205 non-null    float64\n",
            " 10  length             205 non-null    float64\n",
            " 11  width              205 non-null    float64\n",
            " 12  height             205 non-null    float64\n",
            " 13  curb-weight        205 non-null    int64  \n",
            " 14  engine-type        205 non-null    object \n",
            " 15  num-of-cylinders   205 non-null    object \n",
            " 16  engine-size        205 non-null    int64  \n",
            " 17  fuel-system        205 non-null    object \n",
            " 18  bore               205 non-null    object \n",
            " 19  stroke             205 non-null    object \n",
            " 20  compression-ratio  205 non-null    float64\n",
            " 21  horsepower         205 non-null    object \n",
            " 22  peak-rpm           205 non-null    object \n",
            " 23  city-mpg           205 non-null    int64  \n",
            " 24  highway-mpg        205 non-null    int64  \n",
            " 25  price              205 non-null    object \n",
            "dtypes: float64(5), int64(5), object(16)\n",
            "memory usage: 41.8+ KB\n"
          ]
        }
      ]
    },
    {
      "cell_type": "markdown",
      "source": [
        "La información inicial nos muestra que el dataset no contiene ningún tipo de dato faltante, pero con un vistazo al mismo muestra que contiene elementos faltantes representados por un símbolo '?'.\n",
        "\n",
        "A continuación, se explorará más a fondo el dataset para buscar otros valores que pudieran también considerarse como faltantes.\n"
      ],
      "metadata": {
        "id": "qjHkdrW8j_T9"
      }
    },
    {
      "cell_type": "code",
      "source": [
        "for col in data.columns:\n",
        "  print(data[col].unique())"
      ],
      "metadata": {
        "id": "C6R3uzRKKwBt",
        "colab": {
          "base_uri": "https://localhost:8080/"
        },
        "outputId": "1853c50d-083a-41d6-aa2f-04ebe8913908"
      },
      "execution_count": 22,
      "outputs": [
        {
          "output_type": "stream",
          "name": "stdout",
          "text": [
            "[ 3  1  2  0 -1 -2]\n",
            "['?' '164' '158' '192' '188' '121' '98' '81' '118' '148' '110' '145' '137'\n",
            " '101' '78' '106' '85' '107' '104' '113' '150' '129' '115' '93' '142'\n",
            " '161' '153' '125' '128' '122' '103' '168' '108' '194' '231' '119' '154'\n",
            " '74' '186' '83' '102' '89' '87' '77' '91' '134' '65' '197' '90' '94'\n",
            " '256' '95']\n",
            "['alfa-romero' 'audi' 'bmw' 'chevrolet' 'dodge' 'honda' 'isuzu' 'jaguar'\n",
            " 'mazda' 'mercedes-benz' 'mercury' 'mitsubishi' 'nissan' 'peugot'\n",
            " 'plymouth' 'porsche' 'renault' 'saab' 'subaru' 'toyota' 'volkswagen'\n",
            " 'volvo']\n",
            "['gas' 'diesel']\n",
            "['std' 'turbo']\n",
            "['two' 'four' '?']\n",
            "['convertible' 'hatchback' 'sedan' 'wagon' 'hardtop']\n",
            "['rwd' 'fwd' '4wd']\n",
            "['front' 'rear']\n",
            "[ 88.6  94.5  99.8  99.4 105.8  99.5 101.2 103.5 110.   88.4  93.7 103.3\n",
            "  95.9  86.6  96.5  94.3  96.  113.  102.   93.1  95.3  98.8 104.9 106.7\n",
            " 115.6  96.6 120.9 112.  102.7  93.   96.3  95.1  97.2 100.4  91.3  99.2\n",
            " 107.9 114.2 108.   89.5  98.4  96.1  99.1  93.3  97.   96.9  95.7 102.4\n",
            " 102.9 104.5  97.3 104.3 109.1]\n",
            "[168.8 171.2 176.6 177.3 192.7 178.2 176.8 189.  193.8 197.  141.1 155.9\n",
            " 158.8 157.3 174.6 173.2 144.6 150.  163.4 157.1 167.5 175.4 169.1 170.7\n",
            " 172.6 199.6 191.7 159.1 166.8 169.  177.8 175.  190.9 187.5 202.6 180.3\n",
            " 208.1 199.2 178.4 173.  172.4 165.3 170.2 165.6 162.4 173.4 181.7 184.6\n",
            " 178.5 186.7 198.9 167.3 168.9 175.7 181.5 186.6 156.9 157.9 172.  173.5\n",
            " 173.6 158.7 169.7 166.3 168.7 176.2 175.6 183.5 187.8 171.7 159.3 165.7\n",
            " 180.2 183.1 188.8]\n",
            "[64.1 65.5 66.2 66.4 66.3 71.4 67.9 64.8 66.9 70.9 60.3 63.6 63.8 64.6\n",
            " 63.9 64.  65.2 62.5 66.  61.8 69.6 70.6 64.2 65.7 66.5 66.1 70.3 71.7\n",
            " 70.5 72.  68.  64.4 65.4 68.4 68.3 65.  72.3 66.6 63.4 65.6 67.7 67.2\n",
            " 68.9 68.8]\n",
            "[48.8 52.4 54.3 53.1 55.7 55.9 52.  53.7 56.3 53.2 50.8 50.6 59.8 50.2\n",
            " 52.6 54.5 58.3 53.3 54.1 51.  53.5 51.4 52.8 47.8 49.6 55.5 54.4 56.5\n",
            " 58.7 54.9 56.7 55.4 54.8 49.4 51.6 54.7 55.1 56.1 49.7 56.  50.5 55.2\n",
            " 52.5 53.  59.1 53.9 55.6 56.2 57.5]\n",
            "[2548 2823 2337 2824 2507 2844 2954 3086 3053 2395 2710 2765 3055 3230\n",
            " 3380 3505 1488 1874 1909 1876 2128 1967 1989 2191 2535 2811 1713 1819\n",
            " 1837 1940 1956 2010 2024 2236 2289 2304 2372 2465 2293 2734 4066 3950\n",
            " 1890 1900 1905 1945 1950 2380 2385 2500 2410 2443 2425 2670 2700 3515\n",
            " 3750 3495 3770 3740 3685 3900 3715 2910 1918 1944 2004 2145 2370 2328\n",
            " 2833 2921 2926 2365 2405 2403 1889 2017 1938 1951 2028 1971 2037 2008\n",
            " 2324 2302 3095 3296 3060 3071 3139 3020 3197 3430 3075 3252 3285 3485\n",
            " 3130 2818 2778 2756 2800 3366 2579 2460 2658 2695 2707 2758 2808 2847\n",
            " 2050 2120 2240 2190 2340 2510 2290 2455 2420 2650 1985 2040 2015 2280\n",
            " 3110 2081 2109 2275 2094 2122 2140 2169 2204 2265 2300 2540 2536 2551\n",
            " 2679 2714 2975 2326 2480 2414 2458 2976 3016 3131 3151 2261 2209 2264\n",
            " 2212 2319 2254 2221 2661 2563 2912 3034 2935 3042 3045 3157 2952 3049\n",
            " 3012 3217 3062]\n",
            "['dohc' 'ohcv' 'ohc' 'l' 'rotor' 'ohcf' 'dohcv']\n",
            "['four' 'six' 'five' 'three' 'twelve' 'two' 'eight']\n",
            "[130 152 109 136 131 108 164 209  61  90  98 122 156  92  79 110 111 119\n",
            " 258 326  91  70  80 140 134 183 234 308 304  97 103 120 181 151 194 203\n",
            " 132 121 146 171 161 141 173 145]\n",
            "['mpfi' '2bbl' 'mfi' '1bbl' 'spfi' '4bbl' 'idi' 'spdi']\n",
            "['3.47' '2.68' '3.19' '3.13' '3.5' '3.31' '3.62' '2.91' '3.03' '2.97'\n",
            " '3.34' '3.6' '2.92' '3.15' '3.43' '3.63' '3.54' '3.08' '?' '3.39' '3.76'\n",
            " '3.58' '3.46' '3.8' '3.78' '3.17' '3.35' '3.59' '2.99' '3.33' '3.7'\n",
            " '3.61' '3.94' '3.74' '2.54' '3.05' '3.27' '3.24' '3.01']\n",
            "['2.68' '3.47' '3.4' '2.8' '3.19' '3.39' '3.03' '3.11' '3.23' '3.46' '3.9'\n",
            " '3.41' '3.07' '3.58' '4.17' '2.76' '3.15' '?' '3.16' '3.64' '3.1' '3.35'\n",
            " '3.12' '3.86' '3.29' '3.27' '3.52' '2.19' '3.21' '2.9' '2.07' '2.36'\n",
            " '2.64' '3.08' '3.5' '3.54' '2.87']\n",
            "[ 9.   10.    8.    8.5   8.3   7.    8.8   9.5   9.6   9.41  9.4   7.6\n",
            "  9.2  10.1   9.1   8.1  11.5   8.6  22.7  22.   21.5   7.5  21.9   7.8\n",
            "  8.4  21.    8.7   9.31  9.3   7.7  22.5  23.  ]\n",
            "['111' '154' '102' '115' '110' '140' '160' '101' '121' '182' '48' '70'\n",
            " '68' '88' '145' '58' '76' '60' '86' '100' '78' '90' '176' '262' '135'\n",
            " '84' '64' '120' '72' '123' '155' '184' '175' '116' '69' '55' '97' '152'\n",
            " '200' '95' '142' '143' '207' '288' '?' '73' '82' '94' '62' '56' '112'\n",
            " '92' '161' '156' '52' '85' '114' '162' '134' '106']\n",
            "['5000' '5500' '5800' '4250' '5400' '5100' '4800' '6000' '4750' '4650'\n",
            " '4200' '4350' '4500' '5200' '4150' '5600' '5900' '5750' '?' '5250' '4900'\n",
            " '4400' '6600' '5300']\n",
            "[21 19 24 18 17 16 23 20 15 47 38 37 31 49 30 27 25 13 26 36 22 14 45 28\n",
            " 32 35 34 29 33]\n",
            "[27 26 30 22 25 20 29 28 53 43 41 38 24 54 42 34 33 31 19 17 23 32 39 18\n",
            " 16 37 50 36 47 46]\n",
            "['13495' '16500' '13950' '17450' '15250' '17710' '18920' '23875' '?'\n",
            " '16430' '16925' '20970' '21105' '24565' '30760' '41315' '36880' '5151'\n",
            " '6295' '6575' '5572' '6377' '7957' '6229' '6692' '7609' '8558' '8921'\n",
            " '12964' '6479' '6855' '5399' '6529' '7129' '7295' '7895' '9095' '8845'\n",
            " '10295' '12945' '10345' '6785' '11048' '32250' '35550' '36000' '5195'\n",
            " '6095' '6795' '6695' '7395' '10945' '11845' '13645' '15645' '8495'\n",
            " '10595' '10245' '10795' '11245' '18280' '18344' '25552' '28248' '28176'\n",
            " '31600' '34184' '35056' '40960' '45400' '16503' '5389' '6189' '6669'\n",
            " '7689' '9959' '8499' '12629' '14869' '14489' '6989' '8189' '9279' '5499'\n",
            " '7099' '6649' '6849' '7349' '7299' '7799' '7499' '7999' '8249' '8949'\n",
            " '9549' '13499' '14399' '17199' '19699' '18399' '11900' '13200' '12440'\n",
            " '13860' '15580' '16900' '16695' '17075' '16630' '17950' '18150' '12764'\n",
            " '22018' '32528' '34028' '37028' '9295' '9895' '11850' '12170' '15040'\n",
            " '15510' '18620' '5118' '7053' '7603' '7126' '7775' '9960' '9233' '11259'\n",
            " '7463' '10198' '8013' '11694' '5348' '6338' '6488' '6918' '7898' '8778'\n",
            " '6938' '7198' '7788' '7738' '8358' '9258' '8058' '8238' '9298' '9538'\n",
            " '8449' '9639' '9989' '11199' '11549' '17669' '8948' '10698' '9988'\n",
            " '10898' '11248' '16558' '15998' '15690' '15750' '7975' '7995' '8195'\n",
            " '9495' '9995' '11595' '9980' '13295' '13845' '12290' '12940' '13415'\n",
            " '15985' '16515' '18420' '18950' '16845' '19045' '21485' '22470' '22625']\n"
          ]
        }
      ]
    },
    {
      "cell_type": "markdown",
      "source": [
        "El análisis de los valores únicos de cada columna del dataset permite confirmar que los únicos tipos de valores faltantes en el dataset son los símbolos '?', el siguiente paso es encontrar que columnas contienen datos faltantes y en qué cantidad."
      ],
      "metadata": {
        "id": "FTsVXWbHLpdp"
      }
    },
    {
      "cell_type": "code",
      "source": [
        "for col in data.columns:\n",
        "  if len(data[data[col]=='?']) > 0:\n",
        "    null =len(data[data[col]=='?'])\n",
        "    print('---')\n",
        "    print(\"La variable {} contiene {} '?'\".format(col,null))"
      ],
      "metadata": {
        "colab": {
          "base_uri": "https://localhost:8080/"
        },
        "id": "5HqtDl90FJ7y",
        "outputId": "fd61683d-ee7e-4616-b44a-0edeb6ff8e89"
      },
      "execution_count": 23,
      "outputs": [
        {
          "output_type": "stream",
          "name": "stdout",
          "text": [
            "---\n",
            "La variable normalized-losses contiene 41 '?'\n",
            "---\n",
            "La variable num-of-doors contiene 2 '?'\n",
            "---\n",
            "La variable bore contiene 4 '?'\n",
            "---\n",
            "La variable stroke contiene 4 '?'\n",
            "---\n",
            "La variable horsepower contiene 2 '?'\n",
            "---\n",
            "La variable peak-rpm contiene 2 '?'\n",
            "---\n",
            "La variable price contiene 4 '?'\n"
          ]
        }
      ]
    },
    {
      "cell_type": "markdown",
      "source": [
        "**Para tratar con la información faltante haría lo siguiente:**\n",
        "1. Convertir las variables a los tipos de datos apropiados.\n",
        "1. Eliminar las filas con información faltante de la variable a predecir por nuestro modelo, en este caso las 4 filas con datos faltantes de la variable price.\n",
        "1. Evaluar las demás variables con datos faltantes y separarlas por variables categóricas y numéricas.\n",
        "\n",
        "Para el caso de variables categóricas:\n",
        "* rellenar los datos con el valor más frecuente.\n",
        "\n",
        "Para el caso de variables numéricas:\n",
        "\n",
        "1. Buscar outliers para cada variable.\n",
        "1. En caso de existir outliers, rellenar los datos faltantes con la mediana de cada variable.\n",
        "1. En caso de no existir outliers, rellenar los datos con el promedio.\n",
        "* La selección de este método se debe a que el promedio es una métrica que se ve afectada en gran cantidad por la existencia de outliers, mientras que la mediana no.\n",
        "\n"
      ],
      "metadata": {
        "id": "vJqJAcuiq-jI"
      }
    },
    {
      "cell_type": "markdown",
      "source": [
        "**Aclaración importante**\n",
        "\n",
        "\n",
        "Como nuestro dataset lo utilizaremos para hacer predicciones sobre el precio del automóvil, antes de hacer cualquier tratamiento para los datos faltantes, separaremos el dataset en los sets respectivos de entrenamiento y prueba.\n",
        "* Esta precaución no es necesaria tomarla para el caso del cambio de tipo de datos y la eliminación de registros con información faltante de la variable objetivo.\n"
      ],
      "metadata": {
        "id": "1tSMJXcTlbHi"
      }
    },
    {
      "cell_type": "markdown",
      "source": [
        "**Aplicamos los dos primeros pasos**"
      ],
      "metadata": {
        "id": "xiqVrtci-5A7"
      }
    },
    {
      "cell_type": "code",
      "source": [
        "data.replace(\"?\", np.nan, inplace = True)"
      ],
      "metadata": {
        "id": "AI_VvZII_L7y"
      },
      "execution_count": 24,
      "outputs": []
    },
    {
      "cell_type": "code",
      "source": [
        "for col in numericas:\n",
        "  data[col] = pd.to_numeric(data[col])"
      ],
      "metadata": {
        "id": "RVuv5AUaE8B1"
      },
      "execution_count": 25,
      "outputs": []
    },
    {
      "cell_type": "code",
      "source": [
        "data.dropna(subset = ['price'], inplace = True)\n",
        "data.reset_index(drop = True, inplace = True)"
      ],
      "metadata": {
        "id": "qUtCy7sj4hZV"
      },
      "execution_count": 26,
      "outputs": []
    },
    {
      "cell_type": "markdown",
      "source": [
        "##Detección de outliers"
      ],
      "metadata": {
        "id": "UlvNFj-MPqZH"
      }
    },
    {
      "cell_type": "markdown",
      "source": [
        "Los outliers de los datos se pueden encontrar fácilmente utilizando un boxplot. primero obtenemos las variables numéricas."
      ],
      "metadata": {
        "id": "P_XZf5_K8-8O"
      }
    },
    {
      "cell_type": "code",
      "source": [
        "def get_numeric(data):\n",
        "  variables = []\n",
        "  for col in data.columns:\n",
        "    if data[col].dtype != 'object':\n",
        "      variables.append(col)\n",
        "  return variables"
      ],
      "metadata": {
        "id": "86we32dWMxP5"
      },
      "execution_count": 27,
      "outputs": []
    },
    {
      "cell_type": "markdown",
      "source": [
        "Graficamos un boxplot para cada una de ellas, dependiendo de lo mostrado por el gráfico, procederemos a buscar los datos específicos."
      ],
      "metadata": {
        "id": "KEoGs37UGCB9"
      }
    },
    {
      "cell_type": "code",
      "source": [
        "for col in get_numeric(data):\n",
        "  print('boxplot para la variable: '+col+\".\")\n",
        "  fig, ax = plt.subplots(figsize = (10,3))\n",
        "  sns.boxplot(x = data[col])\n",
        "  plt.show()"
      ],
      "metadata": {
        "colab": {
          "base_uri": "https://localhost:8080/",
          "height": 1000
        },
        "id": "vnSzQCUvGWKL",
        "outputId": "24729e1f-db31-4733-fdd2-afcf38b143dd"
      },
      "execution_count": 28,
      "outputs": [
        {
          "output_type": "stream",
          "name": "stdout",
          "text": [
            "boxplot para la variable: symboling.\n"
          ]
        },
        {
          "output_type": "display_data",
          "data": {
            "text/plain": [
              "<Figure size 720x216 with 1 Axes>"
            ],
            "image/png": "[encoded data removed]"
          },
          "metadata": {}
        },
        {
          "output_type": "stream",
          "name": "stdout",
          "text": [
            "boxplot para la variable: normalized-losses.\n"
          ]
        },
        {
          "output_type": "display_data",
          "data": {
            "text/plain": [
              "<Figure size 720x216 with 1 Axes>"
            ],
            "image/png": "[encoded data removed]"
          },
          "metadata": {}
        },
        {
          "output_type": "stream",
          "name": "stdout",
          "text": [
            "boxplot para la variable: wheel-base.\n"
          ]
        },
        {
          "output_type": "display_data",
          "data": {
            "text/plain": [
              "<Figure size 720x216 with 1 Axes>"
            ],
            "image/png": "[encoded data removed]"
          },
          "metadata": {}
        },
        {
          "output_type": "stream",
          "name": "stdout",
          "text": [
            "boxplot para la variable: length.\n"
          ]
        },
        {
          "output_type": "display_data",
          "data": {
            "text/plain": [
              "<Figure size 720x216 with 1 Axes>"
            ],
            "image/png": "[encoded data removed]"
          },
          "metadata": {}
        },
        {
          "output_type": "stream",
          "name": "stdout",
          "text": [
            "boxplot para la variable: width.\n"
          ]
        },
        {
          "output_type": "display_data",
          "data": {
            "text/plain": [
              "<Figure size 720x216 with 1 Axes>"
            ],
            "image/png": "[encoded data removed]"
          },
          "metadata": {}
        },
        {
          "output_type": "stream",
          "name": "stdout",
          "text": [
            "boxplot para la variable: height.\n"
          ]
        },
        {
          "output_type": "display_data",
          "data": {
            "text/plain": [
              "<Figure size 720x216 with 1 Axes>"
            ],
            "image/png": "[encoded data removed]"
          },
          "metadata": {}
        },
        {
          "output_type": "stream",
          "name": "stdout",
          "text": [
            "boxplot para la variable: curb-weight.\n"
          ]
        },
        {
          "output_type": "display_data",
          "data": {
            "text/plain": [
              "<Figure size 720x216 with 1 Axes>"
            ],
            "image/png": "[encoded data removed]"
          },
          "metadata": {}
        },
        {
          "output_type": "stream",
          "name": "stdout",
          "text": [
            "boxplot para la variable: engine-size.\n"
          ]
        },
        {
          "output_type": "display_data",
          "data": {
            "text/plain": [
              "<Figure size 720x216 with 1 Axes>"
            ],
            "image/png": "[encoded data removed]"
          },
          "metadata": {}
        },
        {
          "output_type": "stream",
          "name": "stdout",
          "text": [
            "boxplot para la variable: bore.\n"
          ]
        },
        {
          "output_type": "display_data",
          "data": {
            "text/plain": [
              "<Figure size 720x216 with 1 Axes>"
            ],
            "image/png": "[encoded data removed]"
          },
          "metadata": {}
        },
        {
          "output_type": "stream",
          "name": "stdout",
          "text": [
            "boxplot para la variable: stroke.\n"
          ]
        },
        {
          "output_type": "display_data",
          "data": {
            "text/plain": [
              "<Figure size 720x216 with 1 Axes>"
            ],
            "image/png": "[encoded data removed]"
          },
          "metadata": {}
        },
        {
          "output_type": "stream",
          "name": "stdout",
          "text": [
            "boxplot para la variable: compression-ratio.\n"
          ]
        },
        {
          "output_type": "display_data",
          "data": {
            "text/plain": [
              "<Figure size 720x216 with 1 Axes>"
            ],
            "image/png": "[encoded data removed]"
          },
          "metadata": {}
        },
        {
          "output_type": "stream",
          "name": "stdout",
          "text": [
            "boxplot para la variable: horsepower.\n"
          ]
        },
        {
          "output_type": "display_data",
          "data": {
            "text/plain": [
              "<Figure size 720x216 with 1 Axes>"
            ],
            "image/png": "[encoded data removed]"
          },
          "metadata": {}
        },
        {
          "output_type": "stream",
          "name": "stdout",
          "text": [
            "boxplot para la variable: peak-rpm.\n"
          ]
        },
        {
          "output_type": "display_data",
          "data": {
            "text/plain": [
              "<Figure size 720x216 with 1 Axes>"
            ],
            "image/png": "[encoded data removed]"
          },
          "metadata": {}
        },
        {
          "output_type": "stream",
          "name": "stdout",
          "text": [
            "boxplot para la variable: city-mpg.\n"
          ]
        },
        {
          "output_type": "display_data",
          "data": {
            "text/plain": [
              "<Figure size 720x216 with 1 Axes>"
            ],
            "image/png": "[encoded data removed]"
          },
          "metadata": {}
        },
        {
          "output_type": "stream",
          "name": "stdout",
          "text": [
            "boxplot para la variable: highway-mpg.\n"
          ]
        },
        {
          "output_type": "display_data",
          "data": {
            "text/plain": [
              "<Figure size 720x216 with 1 Axes>"
            ],
            "image/png": "[encoded data removed]"
          },
          "metadata": {}
        },
        {
          "output_type": "stream",
          "name": "stdout",
          "text": [
            "boxplot para la variable: price.\n"
          ]
        },
        {
          "output_type": "display_data",
          "data": {
            "text/plain": [
              "<Figure size 720x216 with 1 Axes>"
            ],
            "image/png": "[encoded data removed]"
          },
          "metadata": {}
        }
      ]
    },
    {
      "cell_type": "markdown",
      "source": [
        "Basándonos en lo observado con los boxplot, las variables que contienen outliers son:\n",
        "* normalized-losses\n",
        "* wheel-base\n",
        "* length\n",
        "* width\n",
        "* curb-weight\n",
        "* engine-size\n",
        "* stroke\n",
        "* compression-ratio\n",
        "* horsepower\n",
        "* peak-rpm\n",
        "* city-mpg\n",
        "* highway-mpg\n",
        "* price\n",
        "\n",
        "Para encontrar específicamente cuáles son estos valores, podemos calcular los límites inferior y superior con los cuartiles.\n"
      ],
      "metadata": {
        "id": "x6POf65QHV4V"
      }
    },
    {
      "cell_type": "code",
      "source": [
        "def get_limits(data):\n",
        "  Q1 = data.describe().loc['25%',:]\n",
        "  Q2 = data.describe().loc['75%',:]\n",
        "  rango_ic = Q2 - Q1\n",
        "  l_inferior = Q1 - 1.5 * rango_ic\n",
        "  l_superior = Q2 + 1.5 * rango_ic\n",
        "  return pd.DataFrame({'l_inferior': l_inferior,'l_superior': l_superior}).T\n",
        "\n",
        "def get_outliers(data):\n",
        "  limites = get_limits(data)\n",
        "  indices = []\n",
        "  cantidad = []\n",
        "  for col in get_numeric(data):\n",
        "    below = data[data[col] < limites.loc['l_inferior',col]]\n",
        "    above = data[data[col] > limites.loc['l_superior',col]]\n",
        "    outliers =  pd.concat([below,above])\n",
        "    indices.append(outliers.index.values)\n",
        "    cantidad.append(len(outliers))\n",
        "  return pd.DataFrame({\"Número de Outliers\": cantidad,\"Outliers\":indices},index = get_numeric(data))\n",
        "\n",
        "def outliers_list(dataset):\n",
        "  data = get_outliers(dataset)\n",
        "  con_outliers = []\n",
        "  sin_outliers = []\n",
        "  for col in get_numeric(dataset):\n",
        "    if len(outliers['Outliers'][col]) > 0:\n",
        "      con_outliers.append(col)\n",
        "    else:\n",
        "      sin_outliers.append(col)\n",
        "  return con_outliers, sin_outliers"
      ],
      "metadata": {
        "id": "b-4IQZu6KyRp"
      },
      "execution_count": 29,
      "outputs": []
    },
    {
      "cell_type": "code",
      "source": [
        "outliers = get_outliers(data)"
      ],
      "metadata": {
        "id": "Xm4YWg7CQiWX"
      },
      "execution_count": 30,
      "outputs": []
    },
    {
      "cell_type": "code",
      "source": [
        "outliers"
      ],
      "metadata": {
        "colab": {
          "base_uri": "https://localhost:8080/",
          "height": 551
        },
        "id": "NufvuKSM81nd",
        "outputId": "0605c0f3-3f81-49ef-9338-a7a87dc97550"
      },
      "execution_count": 31,
      "outputs": [
        {
          "output_type": "execute_result",
          "data": {
            "text/plain": [
              "                   Número de Outliers  \\\n",
              "symboling                           0   \n",
              "normalized-losses                   1   \n",
              "wheel-base                          3   \n",
              "length                              1   \n",
              "width                              11   \n",
              "height                              0   \n",
              "curb-weight                         2   \n",
              "engine-size                        10   \n",
              "bore                                0   \n",
              "stroke                             20   \n",
              "compression-ratio                  27   \n",
              "horsepower                          5   \n",
              "peak-rpm                            2   \n",
              "city-mpg                            2   \n",
              "highway-mpg                         3   \n",
              "price                              14   \n",
              "\n",
              "                                                            Outliers  \n",
              "symboling                                                         []  \n",
              "normalized-losses                                              [186]  \n",
              "wheel-base                                              [67, 68, 70]  \n",
              "length                                                          [17]  \n",
              "width                      [17, 6, 7, 8, 16, 46, 67, 68, 69, 70, 71]  \n",
              "height                                                            []  \n",
              "curb-weight                                                 [44, 45]  \n",
              "engine-size                 [14, 15, 16, 44, 45, 46, 68, 69, 70, 71]  \n",
              "bore                                                              []  \n",
              "stroke             [108, 110, 130, 134, 135, 136, 137, 138, 139, ...  \n",
              "compression-ratio  [28, 79, 80, 81, 114, 121, 46, 60, 63, 64, 65,...  \n",
              "horsepower                                  [46, 102, 123, 124, 125]  \n",
              "peak-rpm                                                  [161, 162]  \n",
              "city-mpg                                                    [17, 29]  \n",
              "highway-mpg                                             [17, 29, 87]  \n",
              "price              [14, 15, 16, 44, 45, 46, 67, 68, 69, 70, 71, 1...  "
            ],
            "text/html": [
              "\n",
              "  <div id=\"df-c6c726a6-385d-4318-8783-afbc10bdc19c\">\n",
              "    <div class=\"colab-df-container\">\n",
              "      <div>\n",
              "<style scoped>\n",
              "    .dataframe tbody tr th:only-of-type {\n",
              "        vertical-align: middle;\n",
              "    }\n",
              "\n",
              "    .dataframe tbody tr th {\n",
              "        vertical-align: top;\n",
              "    }\n",
              "\n",
              "    .dataframe thead th {\n",
              "        text-align: right;\n",
              "    }\n",
              "</style>\n",
              "<table border=\"1\" class=\"dataframe\">\n",
              "  <thead>\n",
              "    <tr style=\"text-align: right;\">\n",
              "      <th></th>\n",
              "      <th>Número de Outliers</th>\n",
              "      <th>Outliers</th>\n",
              "    </tr>\n",
              "  </thead>\n",
              "  <tbody>\n",
              "    <tr>\n",
              "      <th>symboling</th>\n",
              "      <td>0</td>\n",
              "      <td>[]</td>\n",
              "    </tr>\n",
              "    <tr>\n",
              "      <th>normalized-losses</th>\n",
              "      <td>1</td>\n",
              "      <td>[186]</td>\n",
              "    </tr>\n",
              "    <tr>\n",
              "      <th>wheel-base</th>\n",
              "      <td>3</td>\n",
              "      <td>[67, 68, 70]</td>\n",
              "    </tr>\n",
              "    <tr>\n",
              "      <th>length</th>\n",
              "      <td>1</td>\n",
              "      <td>[17]</td>\n",
              "    </tr>\n",
              "    <tr>\n",
              "      <th>width</th>\n",
              "      <td>11</td>\n",
              "      <td>[17, 6, 7, 8, 16, 46, 67, 68, 69, 70, 71]</td>\n",
              "    </tr>\n",
              "    <tr>\n",
              "      <th>height</th>\n",
              "      <td>0</td>\n",
              "      <td>[]</td>\n",
              "    </tr>\n",
              "    <tr>\n",
              "      <th>curb-weight</th>\n",
              "      <td>2</td>\n",
              "      <td>[44, 45]</td>\n",
              "    </tr>\n",
              "    <tr>\n",
              "      <th>engine-size</th>\n",
              "      <td>10</td>\n",
              "      <td>[14, 15, 16, 44, 45, 46, 68, 69, 70, 71]</td>\n",
              "    </tr>\n",
              "    <tr>\n",
              "      <th>bore</th>\n",
              "      <td>0</td>\n",
              "      <td>[]</td>\n",
              "    </tr>\n",
              "    <tr>\n",
              "      <th>stroke</th>\n",
              "      <td>20</td>\n",
              "      <td>[108, 110, 130, 134, 135, 136, 137, 138, 139, ...</td>\n",
              "    </tr>\n",
              "    <tr>\n",
              "      <th>compression-ratio</th>\n",
              "      <td>27</td>\n",
              "      <td>[28, 79, 80, 81, 114, 121, 46, 60, 63, 64, 65,...</td>\n",
              "    </tr>\n",
              "    <tr>\n",
              "      <th>horsepower</th>\n",
              "      <td>5</td>\n",
              "      <td>[46, 102, 123, 124, 125]</td>\n",
              "    </tr>\n",
              "    <tr>\n",
              "      <th>peak-rpm</th>\n",
              "      <td>2</td>\n",
              "      <td>[161, 162]</td>\n",
              "    </tr>\n",
              "    <tr>\n",
              "      <th>city-mpg</th>\n",
              "      <td>2</td>\n",
              "      <td>[17, 29]</td>\n",
              "    </tr>\n",
              "    <tr>\n",
              "      <th>highway-mpg</th>\n",
              "      <td>3</td>\n",
              "      <td>[17, 29, 87]</td>\n",
              "    </tr>\n",
              "    <tr>\n",
              "      <th>price</th>\n",
              "      <td>14</td>\n",
              "      <td>[14, 15, 16, 44, 45, 46, 67, 68, 69, 70, 71, 1...</td>\n",
              "    </tr>\n",
              "  </tbody>\n",
              "</table>\n",
              "</div>\n",
              "      <button class=\"colab-df-convert\" onclick=\"convertToInteractive('df-c6c726a6-385d-4318-8783-afbc10bdc19c')\"\n",
              "              title=\"Convert this dataframe to an interactive table.\"\n",
              "              style=\"display:none;\">\n",
              "        \n",
              "  <svg xmlns=\"http://www.w3.org/2000/svg\" height=\"24px\"viewBox=\"0 0 24 24\"\n",
              "       width=\"24px\">\n",
              "    <path d=\"M0 0h24v24H0V0z\" fill=\"none\"/>\n",
              "    <path d=\"M18.56 5.44l.94 2.06.94-2.06 2.06-.94-2.06-.94-.94-2.06-.94 2.06-2.06.94zm-11 1L8.5 8.5l.94-2.06 2.06-.94-2.06-.94L8.5 2.5l-.94 2.06-2.06.94zm10 10l.94 2.06.94-2.06 2.06-.94-2.06-.94-.94-2.06-.94 2.06-2.06.94z\"/><path d=\"M17.41 7.96l-1.37-1.37c-.4-.4-.92-.59-1.43-.59-.52 0-1.04.2-1.43.59L10.3 9.45l-7.72 7.72c-.78.78-.78 2.05 0 2.83L4 21.41c.39.39.9.59 1.41.59.51 0 1.02-.2 1.41-.59l7.78-7.78 2.81-2.81c.8-.78.8-2.07 0-2.86zM5.41 20L4 18.59l7.72-7.72 1.47 1.35L5.41 20z\"/>\n",
              "  </svg>\n",
              "      </button>\n",
              "      \n",
              "  <style>\n",
              "    .colab-df-container {\n",
              "      display:flex;\n",
              "      flex-wrap:wrap;\n",
              "      gap: 12px;\n",
              "    }\n",
              "\n",
              "    .colab-df-convert {\n",
              "      background-color: #E8F0FE;\n",
              "      border: none;\n",
              "      border-radius: 50%;\n",
              "      cursor: pointer;\n",
              "      display: none;\n",
              "      fill: #1967D2;\n",
              "      height: 32px;\n",
              "      padding: 0 0 0 0;\n",
              "      width: 32px;\n",
              "    }\n",
              "\n",
              "    .colab-df-convert:hover {\n",
              "      background-color: #E2EBFA;\n",
              "      box-shadow: 0px 1px 2px rgba(60, 64, 67, 0.3), 0px 1px 3px 1px rgba(60, 64, 67, 0.15);\n",
              "      fill: #174EA6;\n",
              "    }\n",
              "\n",
              "    [theme=dark] .colab-df-convert {\n",
              "      background-color: #3B4455;\n",
              "      fill: #D2E3FC;\n",
              "    }\n",
              "\n",
              "    [theme=dark] .colab-df-convert:hover {\n",
              "      background-color: #434B5C;\n",
              "      box-shadow: 0px 1px 3px 1px rgba(0, 0, 0, 0.15);\n",
              "      filter: drop-shadow(0px 1px 2px rgba(0, 0, 0, 0.3));\n",
              "      fill: #FFFFFF;\n",
              "    }\n",
              "  </style>\n",
              "\n",
              "      <script>\n",
              "        const buttonEl =\n",
              "          document.querySelector('#df-c6c726a6-385d-4318-8783-afbc10bdc19c button.colab-df-convert');\n",
              "        buttonEl.style.display =\n",
              "          google.colab.kernel.accessAllowed ? 'block' : 'none';\n",
              "\n",
              "        async function convertToInteractive(key) {\n",
              "          const element = document.querySelector('#df-c6c726a6-385d-4318-8783-afbc10bdc19c');\n",
              "          const dataTable =\n",
              "            await google.colab.kernel.invokeFunction('convertToInteractive',\n",
              "                                                     [key], {});\n",
              "          if (!dataTable) return;\n",
              "\n",
              "          const docLinkHtml = 'Like what you see? Visit the ' +\n",
              "            '<a target=\"_blank\" href=https://colab.research.google.com/notebooks/data_table.ipynb>data table notebook</a>'\n",
              "            + ' to learn more about interactive tables.';\n",
              "          element.innerHTML = '';\n",
              "          dataTable['output_type'] = 'display_data';\n",
              "          await google.colab.output.renderOutput(dataTable, element);\n",
              "          const docLink = document.createElement('div');\n",
              "          docLink.innerHTML = docLinkHtml;\n",
              "          element.appendChild(docLink);\n",
              "        }\n",
              "      </script>\n",
              "    </div>\n",
              "  </div>\n",
              "  "
            ]
          },
          "metadata": {},
          "execution_count": 31
        }
      ]
    },
    {
      "cell_type": "markdown",
      "source": [
        "De esta forma podemos confirmar lo que observamos en los gráficos, pero además podemos obtener la cantidad exacta de outliers y sus índices en caso de querer seguir revisándolos.\n",
        "\n",
        "Por ejemplo, la variable que más llama la atención es compression-ratio pues tiene una gran cantidad de outliers, revisemos cuáles son.\n"
      ],
      "metadata": {
        "id": "Kx1XFEvrg2IM"
      }
    },
    {
      "cell_type": "code",
      "source": [
        "data.iloc[outliers['Outliers']['compression-ratio'],:]"
      ],
      "metadata": {
        "colab": {
          "base_uri": "https://localhost:8080/",
          "height": 1000
        },
        "id": "G_cRS_rX86SQ",
        "outputId": "74ae6a4f-47bf-4f99-bcd0-9c68eb3a52a5"
      },
      "execution_count": 32,
      "outputs": [
        {
          "output_type": "execute_result",
          "data": {
            "text/plain": [
              "     symboling  normalized-losses           make fuel-type aspiration  \\\n",
              "28           3              145.0          dodge       gas      turbo   \n",
              "79           3                NaN     mitsubishi       gas      turbo   \n",
              "80           3                NaN     mitsubishi       gas      turbo   \n",
              "81           3                NaN     mitsubishi       gas      turbo   \n",
              "114          0              161.0         peugot       gas      turbo   \n",
              "121          3                NaN       plymouth       gas      turbo   \n",
              "46           0                NaN         jaguar       gas        std   \n",
              "60           0                NaN          mazda    diesel        std   \n",
              "63           0                NaN          mazda    diesel        std   \n",
              "64          -1               93.0  mercedes-benz    diesel      turbo   \n",
              "65          -1               93.0  mercedes-benz    diesel      turbo   \n",
              "66           0               93.0  mercedes-benz    diesel      turbo   \n",
              "67          -1               93.0  mercedes-benz    diesel      turbo   \n",
              "87           1              128.0         nissan    diesel        std   \n",
              "105          0              161.0         peugot    diesel      turbo   \n",
              "107          0                NaN         peugot    diesel      turbo   \n",
              "109          0              161.0         peugot    diesel      turbo   \n",
              "111          0                NaN         peugot    diesel      turbo   \n",
              "113          0              161.0         peugot    diesel      turbo   \n",
              "154          0               91.0         toyota    diesel        std   \n",
              "155          0               91.0         toyota    diesel        std   \n",
              "170         -1               65.0         toyota    diesel      turbo   \n",
              "178          2              122.0     volkswagen    diesel        std   \n",
              "180          2               94.0     volkswagen    diesel        std   \n",
              "183          2               94.0     volkswagen    diesel      turbo   \n",
              "188          0                NaN     volkswagen    diesel      turbo   \n",
              "199         -1               95.0          volvo    diesel      turbo   \n",
              "\n",
              "    num-of-doors body-style drive-wheels engine-location  wheel-base  ...  \\\n",
              "28           two  hatchback          fwd           front        95.9  ...   \n",
              "79           two  hatchback          fwd           front        95.9  ...   \n",
              "80           two  hatchback          fwd           front        95.9  ...   \n",
              "81           two  hatchback          fwd           front        95.9  ...   \n",
              "114         four      sedan          rwd           front       108.0  ...   \n",
              "121          two  hatchback          rwd           front        95.9  ...   \n",
              "46           two      sedan          rwd           front       102.0  ...   \n",
              "60           NaN      sedan          fwd           front        98.8  ...   \n",
              "63          four      sedan          rwd           front       104.9  ...   \n",
              "64          four      sedan          rwd           front       110.0  ...   \n",
              "65          four      wagon          rwd           front       110.0  ...   \n",
              "66           two    hardtop          rwd           front       106.7  ...   \n",
              "67          four      sedan          rwd           front       115.6  ...   \n",
              "87           two      sedan          fwd           front        94.5  ...   \n",
              "105         four      sedan          rwd           front       107.9  ...   \n",
              "107         four      wagon          rwd           front       114.2  ...   \n",
              "109         four      sedan          rwd           front       107.9  ...   \n",
              "111         four      wagon          rwd           front       114.2  ...   \n",
              "113         four      sedan          rwd           front       107.9  ...   \n",
              "154         four      sedan          fwd           front        95.7  ...   \n",
              "155         four  hatchback          fwd           front        95.7  ...   \n",
              "170         four      sedan          fwd           front       102.4  ...   \n",
              "178          two      sedan          fwd           front        97.3  ...   \n",
              "180         four      sedan          fwd           front        97.3  ...   \n",
              "183         four      sedan          fwd           front        97.3  ...   \n",
              "188         four      sedan          fwd           front       100.4  ...   \n",
              "199         four      sedan          rwd           front       109.1  ...   \n",
              "\n",
              "     engine-size  fuel-system  bore  stroke compression-ratio horsepower  \\\n",
              "28           156          mfi  3.60    3.90               7.0      145.0   \n",
              "79           156         spdi  3.58    3.86               7.0      145.0   \n",
              "80           156         spdi  3.59    3.86               7.0      145.0   \n",
              "81           156         spdi  3.59    3.86               7.0      145.0   \n",
              "114          134         mpfi  3.61    3.21               7.0      142.0   \n",
              "121          156         spdi  3.59    3.86               7.0      145.0   \n",
              "46           326         mpfi  3.54    2.76              11.5      262.0   \n",
              "60           122          idi  3.39    3.39              22.7       64.0   \n",
              "63           134          idi  3.43    3.64              22.0       72.0   \n",
              "64           183          idi  3.58    3.64              21.5      123.0   \n",
              "65           183          idi  3.58    3.64              21.5      123.0   \n",
              "66           183          idi  3.58    3.64              21.5      123.0   \n",
              "67           183          idi  3.58    3.64              21.5      123.0   \n",
              "87           103          idi  2.99    3.47              21.9       55.0   \n",
              "105          152          idi  3.70    3.52              21.0       95.0   \n",
              "107          152          idi  3.70    3.52              21.0       95.0   \n",
              "109          152          idi  3.70    3.52              21.0       95.0   \n",
              "111          152          idi  3.70    3.52              21.0       95.0   \n",
              "113          152          idi  3.70    3.52              21.0       95.0   \n",
              "154          110          idi  3.27    3.35              22.5       56.0   \n",
              "155          110          idi  3.27    3.35              22.5       56.0   \n",
              "170          110          idi  3.27    3.35              22.5       73.0   \n",
              "178           97          idi  3.01    3.40              23.0       52.0   \n",
              "180           97          idi  3.01    3.40              23.0       52.0   \n",
              "183           97          idi  3.01    3.40              23.0       68.0   \n",
              "188           97          idi  3.01    3.40              23.0       68.0   \n",
              "199          145          idi  3.01    3.40              23.0      106.0   \n",
              "\n",
              "     peak-rpm city-mpg  highway-mpg    price  \n",
              "28     5000.0       19           24  12964.0  \n",
              "79     5000.0       19           24  12629.0  \n",
              "80     5000.0       19           24  14869.0  \n",
              "81     5000.0       19           24  14489.0  \n",
              "114    5600.0       18           24  18150.0  \n",
              "121    5000.0       19           24  12764.0  \n",
              "46     5000.0       13           17  36000.0  \n",
              "60     4650.0       36           42  10795.0  \n",
              "63     4200.0       31           39  18344.0  \n",
              "64     4350.0       22           25  25552.0  \n",
              "65     4350.0       22           25  28248.0  \n",
              "66     4350.0       22           25  28176.0  \n",
              "67     4350.0       22           25  31600.0  \n",
              "87     4800.0       45           50   7099.0  \n",
              "105    4150.0       28           33  13200.0  \n",
              "107    4150.0       25           25  13860.0  \n",
              "109    4150.0       28           33  16900.0  \n",
              "111    4150.0       25           25  17075.0  \n",
              "113    4150.0       28           33  17950.0  \n",
              "154    4500.0       34           36   7898.0  \n",
              "155    4500.0       38           47   7788.0  \n",
              "170    4500.0       30           33  10698.0  \n",
              "178    4800.0       37           46   7775.0  \n",
              "180    4800.0       37           46   7995.0  \n",
              "183    4500.0       37           42   9495.0  \n",
              "188    4500.0       33           38  13845.0  \n",
              "199    4800.0       26           27  22470.0  \n",
              "\n",
              "[27 rows x 26 columns]"
            ],
            "text/html": [
              "\n",
              "  <div id=\"df-e49c5d46-b56b-40dd-8295-0c008f2eac0b\">\n",
              "    <div class=\"colab-df-container\">\n",
              "      <div>\n",
              "<style scoped>\n",
              "    .dataframe tbody tr th:only-of-type {\n",
              "        vertical-align: middle;\n",
              "    }\n",
              "\n",
              "    .dataframe tbody tr th {\n",
              "        vertical-align: top;\n",
              "    }\n",
              "\n",
              "    .dataframe thead th {\n",
              "        text-align: right;\n",
              "    }\n",
              "</style>\n",
              "<table border=\"1\" class=\"dataframe\">\n",
              "  <thead>\n",
              "    <tr style=\"text-align: right;\">\n",
              "      <th></th>\n",
              "      <th>symboling</th>\n",
              "      <th>normalized-losses</th>\n",
              "      <th>make</th>\n",
              "      <th>fuel-type</th>\n",
              "      <th>aspiration</th>\n",
              "      <th>num-of-doors</th>\n",
              "      <th>body-style</th>\n",
              "      <th>drive-wheels</th>\n",
              "      <th>engine-location</th>\n",
              "      <th>wheel-base</th>\n",
              "      <th>...</th>\n",
              "      <th>engine-size</th>\n",
              "      <th>fuel-system</th>\n",
              "      <th>bore</th>\n",
              "      <th>stroke</th>\n",
              "      <th>compression-ratio</th>\n",
              "      <th>horsepower</th>\n",
              "      <th>peak-rpm</th>\n",
              "      <th>city-mpg</th>\n",
              "      <th>highway-mpg</th>\n",
              "      <th>price</th>\n",
              "    </tr>\n",
              "  </thead>\n",
              "  <tbody>\n",
              "    <tr>\n",
              "      <th>28</th>\n",
              "      <td>3</td>\n",
              "      <td>145.0</td>\n",
              "      <td>dodge</td>\n",
              "      <td>gas</td>\n",
              "      <td>turbo</td>\n",
              "      <td>two</td>\n",
              "      <td>hatchback</td>\n",
              "      <td>fwd</td>\n",
              "      <td>front</td>\n",
              "      <td>95.9</td>\n",
              "      <td>...</td>\n",
              "      <td>156</td>\n",
              "      <td>mfi</td>\n",
              "      <td>3.60</td>\n",
              "      <td>3.90</td>\n",
              "      <td>7.0</td>\n",
              "      <td>145.0</td>\n",
              "      <td>5000.0</td>\n",
              "      <td>19</td>\n",
              "      <td>24</td>\n",
              "      <td>12964.0</td>\n",
              "    </tr>\n",
              "    <tr>\n",
              "      <th>79</th>\n",
              "      <td>3</td>\n",
              "      <td>NaN</td>\n",
              "      <td>mitsubishi</td>\n",
              "      <td>gas</td>\n",
              "      <td>turbo</td>\n",
              "      <td>two</td>\n",
              "      <td>hatchback</td>\n",
              "      <td>fwd</td>\n",
              "      <td>front</td>\n",
              "      <td>95.9</td>\n",
              "      <td>...</td>\n",
              "      <td>156</td>\n",
              "      <td>spdi</td>\n",
              "      <td>3.58</td>\n",
              "      <td>3.86</td>\n",
              "      <td>7.0</td>\n",
              "      <td>145.0</td>\n",
              "      <td>5000.0</td>\n",
              "      <td>19</td>\n",
              "      <td>24</td>\n",
              "      <td>12629.0</td>\n",
              "    </tr>\n",
              "    <tr>\n",
              "      <th>80</th>\n",
              "      <td>3</td>\n",
              "      <td>NaN</td>\n",
              "      <td>mitsubishi</td>\n",
              "      <td>gas</td>\n",
              "      <td>turbo</td>\n",
              "      <td>two</td>\n",
              "      <td>hatchback</td>\n",
              "      <td>fwd</td>\n",
              "      <td>front</td>\n",
              "      <td>95.9</td>\n",
              "      <td>...</td>\n",
              "      <td>156</td>\n",
              "      <td>spdi</td>\n",
              "      <td>3.59</td>\n",
              "      <td>3.86</td>\n",
              "      <td>7.0</td>\n",
              "      <td>145.0</td>\n",
              "      <td>5000.0</td>\n",
              "      <td>19</td>\n",
              "      <td>24</td>\n",
              "      <td>14869.0</td>\n",
              "    </tr>\n",
              "    <tr>\n",
              "      <th>81</th>\n",
              "      <td>3</td>\n",
              "      <td>NaN</td>\n",
              "      <td>mitsubishi</td>\n",
              "      <td>gas</td>\n",
              "      <td>turbo</td>\n",
              "      <td>two</td>\n",
              "      <td>hatchback</td>\n",
              "      <td>fwd</td>\n",
              "      <td>front</td>\n",
              "      <td>95.9</td>\n",
              "      <td>...</td>\n",
              "      <td>156</td>\n",
              "      <td>spdi</td>\n",
              "      <td>3.59</td>\n",
              "      <td>3.86</td>\n",
              "      <td>7.0</td>\n",
              "      <td>145.0</td>\n",
              "      <td>5000.0</td>\n",
              "      <td>19</td>\n",
              "      <td>24</td>\n",
              "      <td>14489.0</td>\n",
              "    </tr>\n",
              "    <tr>\n",
              "      <th>114</th>\n",
              "      <td>0</td>\n",
              "      <td>161.0</td>\n",
              "      <td>peugot</td>\n",
              "      <td>gas</td>\n",
              "      <td>turbo</td>\n",
              "      <td>four</td>\n",
              "      <td>sedan</td>\n",
              "      <td>rwd</td>\n",
              "      <td>front</td>\n",
              "      <td>108.0</td>\n",
              "      <td>...</td>\n",
              "      <td>134</td>\n",
              "      <td>mpfi</td>\n",
              "      <td>3.61</td>\n",
              "      <td>3.21</td>\n",
              "      <td>7.0</td>\n",
              "      <td>142.0</td>\n",
              "      <td>5600.0</td>\n",
              "      <td>18</td>\n",
              "      <td>24</td>\n",
              "      <td>18150.0</td>\n",
              "    </tr>\n",
              "    <tr>\n",
              "      <th>121</th>\n",
              "      <td>3</td>\n",
              "      <td>NaN</td>\n",
              "      <td>plymouth</td>\n",
              "      <td>gas</td>\n",
              "      <td>turbo</td>\n",
              "      <td>two</td>\n",
              "      <td>hatchback</td>\n",
              "      <td>rwd</td>\n",
              "      <td>front</td>\n",
              "      <td>95.9</td>\n",
              "      <td>...</td>\n",
              "      <td>156</td>\n",
              "      <td>spdi</td>\n",
              "      <td>3.59</td>\n",
              "      <td>3.86</td>\n",
              "      <td>7.0</td>\n",
              "      <td>145.0</td>\n",
              "      <td>5000.0</td>\n",
              "      <td>19</td>\n",
              "      <td>24</td>\n",
              "      <td>12764.0</td>\n",
              "    </tr>\n",
              "    <tr>\n",
              "      <th>46</th>\n",
              "      <td>0</td>\n",
              "      <td>NaN</td>\n",
              "      <td>jaguar</td>\n",
              "      <td>gas</td>\n",
              "      <td>std</td>\n",
              "      <td>two</td>\n",
              "      <td>sedan</td>\n",
              "      <td>rwd</td>\n",
              "      <td>front</td>\n",
              "      <td>102.0</td>\n",
              "      <td>...</td>\n",
              "      <td>326</td>\n",
              "      <td>mpfi</td>\n",
              "      <td>3.54</td>\n",
              "      <td>2.76</td>\n",
              "      <td>11.5</td>\n",
              "      <td>262.0</td>\n",
              "      <td>5000.0</td>\n",
              "      <td>13</td>\n",
              "      <td>17</td>\n",
              "      <td>36000.0</td>\n",
              "    </tr>\n",
              "    <tr>\n",
              "      <th>60</th>\n",
              "      <td>0</td>\n",
              "      <td>NaN</td>\n",
              "      <td>mazda</td>\n",
              "      <td>diesel</td>\n",
              "      <td>std</td>\n",
              "      <td>NaN</td>\n",
              "      <td>sedan</td>\n",
              "      <td>fwd</td>\n",
              "      <td>front</td>\n",
              "      <td>98.8</td>\n",
              "      <td>...</td>\n",
              "      <td>122</td>\n",
              "      <td>idi</td>\n",
              "      <td>3.39</td>\n",
              "      <td>3.39</td>\n",
              "      <td>22.7</td>\n",
              "      <td>64.0</td>\n",
              "      <td>4650.0</td>\n",
              "      <td>36</td>\n",
              "      <td>42</td>\n",
              "      <td>10795.0</td>\n",
              "    </tr>\n",
              "    <tr>\n",
              "      <th>63</th>\n",
              "      <td>0</td>\n",
              "      <td>NaN</td>\n",
              "      <td>mazda</td>\n",
              "      <td>diesel</td>\n",
              "      <td>std</td>\n",
              "      <td>four</td>\n",
              "      <td>sedan</td>\n",
              "      <td>rwd</td>\n",
              "      <td>front</td>\n",
              "      <td>104.9</td>\n",
              "      <td>...</td>\n",
              "      <td>134</td>\n",
              "      <td>idi</td>\n",
              "      <td>3.43</td>\n",
              "      <td>3.64</td>\n",
              "      <td>22.0</td>\n",
              "      <td>72.0</td>\n",
              "      <td>4200.0</td>\n",
              "      <td>31</td>\n",
              "      <td>39</td>\n",
              "      <td>18344.0</td>\n",
              "    </tr>\n",
              "    <tr>\n",
              "      <th>64</th>\n",
              "      <td>-1</td>\n",
              "      <td>93.0</td>\n",
              "      <td>mercedes-benz</td>\n",
              "      <td>diesel</td>\n",
              "      <td>turbo</td>\n",
              "      <td>four</td>\n",
              "      <td>sedan</td>\n",
              "      <td>rwd</td>\n",
              "      <td>front</td>\n",
              "      <td>110.0</td>\n",
              "      <td>...</td>\n",
              "      <td>183</td>\n",
              "      <td>idi</td>\n",
              "      <td>3.58</td>\n",
              "      <td>3.64</td>\n",
              "      <td>21.5</td>\n",
              "      <td>123.0</td>\n",
              "      <td>4350.0</td>\n",
              "      <td>22</td>\n",
              "      <td>25</td>\n",
              "      <td>25552.0</td>\n",
              "    </tr>\n",
              "    <tr>\n",
              "      <th>65</th>\n",
              "      <td>-1</td>\n",
              "      <td>93.0</td>\n",
              "      <td>mercedes-benz</td>\n",
              "      <td>diesel</td>\n",
              "      <td>turbo</td>\n",
              "      <td>four</td>\n",
              "      <td>wagon</td>\n",
              "      <td>rwd</td>\n",
              "      <td>front</td>\n",
              "      <td>110.0</td>\n",
              "      <td>...</td>\n",
              "      <td>183</td>\n",
              "      <td>idi</td>\n",
              "      <td>3.58</td>\n",
              "      <td>3.64</td>\n",
              "      <td>21.5</td>\n",
              "      <td>123.0</td>\n",
              "      <td>4350.0</td>\n",
              "      <td>22</td>\n",
              "      <td>25</td>\n",
              "      <td>28248.0</td>\n",
              "    </tr>\n",
              "    <tr>\n",
              "      <th>66</th>\n",
              "      <td>0</td>\n",
              "      <td>93.0</td>\n",
              "      <td>mercedes-benz</td>\n",
              "      <td>diesel</td>\n",
              "      <td>turbo</td>\n",
              "      <td>two</td>\n",
              "      <td>hardtop</td>\n",
              "      <td>rwd</td>\n",
              "      <td>front</td>\n",
              "      <td>106.7</td>\n",
              "      <td>...</td>\n",
              "      <td>183</td>\n",
              "      <td>idi</td>\n",
              "      <td>3.58</td>\n",
              "      <td>3.64</td>\n",
              "      <td>21.5</td>\n",
              "      <td>123.0</td>\n",
              "      <td>4350.0</td>\n",
              "      <td>22</td>\n",
              "      <td>25</td>\n",
              "      <td>28176.0</td>\n",
              "    </tr>\n",
              "    <tr>\n",
              "      <th>67</th>\n",
              "      <td>-1</td>\n",
              "      <td>93.0</td>\n",
              "      <td>mercedes-benz</td>\n",
              "      <td>diesel</td>\n",
              "      <td>turbo</td>\n",
              "      <td>four</td>\n",
              "      <td>sedan</td>\n",
              "      <td>rwd</td>\n",
              "      <td>front</td>\n",
              "      <td>115.6</td>\n",
              "      <td>...</td>\n",
              "      <td>183</td>\n",
              "      <td>idi</td>\n",
              "      <td>3.58</td>\n",
              "      <td>3.64</td>\n",
              "      <td>21.5</td>\n",
              "      <td>123.0</td>\n",
              "      <td>4350.0</td>\n",
              "      <td>22</td>\n",
              "      <td>25</td>\n",
              "      <td>31600.0</td>\n",
              "    </tr>\n",
              "    <tr>\n",
              "      <th>87</th>\n",
              "      <td>1</td>\n",
              "      <td>128.0</td>\n",
              "      <td>nissan</td>\n",
              "      <td>diesel</td>\n",
              "      <td>std</td>\n",
              "      <td>two</td>\n",
              "      <td>sedan</td>\n",
              "      <td>fwd</td>\n",
              "      <td>front</td>\n",
              "      <td>94.5</td>\n",
              "      <td>...</td>\n",
              "      <td>103</td>\n",
              "      <td>idi</td>\n",
              "      <td>2.99</td>\n",
              "      <td>3.47</td>\n",
              "      <td>21.9</td>\n",
              "      <td>55.0</td>\n",
              "      <td>4800.0</td>\n",
              "      <td>45</td>\n",
              "      <td>50</td>\n",
              "      <td>7099.0</td>\n",
              "    </tr>\n",
              "    <tr>\n",
              "      <th>105</th>\n",
              "      <td>0</td>\n",
              "      <td>161.0</td>\n",
              "      <td>peugot</td>\n",
              "      <td>diesel</td>\n",
              "      <td>turbo</td>\n",
              "      <td>four</td>\n",
              "      <td>sedan</td>\n",
              "      <td>rwd</td>\n",
              "      <td>front</td>\n",
              "      <td>107.9</td>\n",
              "      <td>...</td>\n",
              "      <td>152</td>\n",
              "      <td>idi</td>\n",
              "      <td>3.70</td>\n",
              "      <td>3.52</td>\n",
              "      <td>21.0</td>\n",
              "      <td>95.0</td>\n",
              "      <td>4150.0</td>\n",
              "      <td>28</td>\n",
              "      <td>33</td>\n",
              "      <td>13200.0</td>\n",
              "    </tr>\n",
              "    <tr>\n",
              "      <th>107</th>\n",
              "      <td>0</td>\n",
              "      <td>NaN</td>\n",
              "      <td>peugot</td>\n",
              "      <td>diesel</td>\n",
              "      <td>turbo</td>\n",
              "      <td>four</td>\n",
              "      <td>wagon</td>\n",
              "      <td>rwd</td>\n",
              "      <td>front</td>\n",
              "      <td>114.2</td>\n",
              "      <td>...</td>\n",
              "      <td>152</td>\n",
              "      <td>idi</td>\n",
              "      <td>3.70</td>\n",
              "      <td>3.52</td>\n",
              "      <td>21.0</td>\n",
              "      <td>95.0</td>\n",
              "      <td>4150.0</td>\n",
              "      <td>25</td>\n",
              "      <td>25</td>\n",
              "      <td>13860.0</td>\n",
              "    </tr>\n",
              "    <tr>\n",
              "      <th>109</th>\n",
              "      <td>0</td>\n",
              "      <td>161.0</td>\n",
              "      <td>peugot</td>\n",
              "      <td>diesel</td>\n",
              "      <td>turbo</td>\n",
              "      <td>four</td>\n",
              "      <td>sedan</td>\n",
              "      <td>rwd</td>\n",
              "      <td>front</td>\n",
              "      <td>107.9</td>\n",
              "      <td>...</td>\n",
              "      <td>152</td>\n",
              "      <td>idi</td>\n",
              "      <td>3.70</td>\n",
              "      <td>3.52</td>\n",
              "      <td>21.0</td>\n",
              "      <td>95.0</td>\n",
              "      <td>4150.0</td>\n",
              "      <td>28</td>\n",
              "      <td>33</td>\n",
              "      <td>16900.0</td>\n",
              "    </tr>\n",
              "    <tr>\n",
              "      <th>111</th>\n",
              "      <td>0</td>\n",
              "      <td>NaN</td>\n",
              "      <td>peugot</td>\n",
              "      <td>diesel</td>\n",
              "      <td>turbo</td>\n",
              "      <td>four</td>\n",
              "      <td>wagon</td>\n",
              "      <td>rwd</td>\n",
              "      <td>front</td>\n",
              "      <td>114.2</td>\n",
              "      <td>...</td>\n",
              "      <td>152</td>\n",
              "      <td>idi</td>\n",
              "      <td>3.70</td>\n",
              "      <td>3.52</td>\n",
              "      <td>21.0</td>\n",
              "      <td>95.0</td>\n",
              "      <td>4150.0</td>\n",
              "      <td>25</td>\n",
              "      <td>25</td>\n",
              "      <td>17075.0</td>\n",
              "    </tr>\n",
              "    <tr>\n",
              "      <th>113</th>\n",
              "      <td>0</td>\n",
              "      <td>161.0</td>\n",
              "      <td>peugot</td>\n",
              "      <td>diesel</td>\n",
              "      <td>turbo</td>\n",
              "      <td>four</td>\n",
              "      <td>sedan</td>\n",
              "      <td>rwd</td>\n",
              "      <td>front</td>\n",
              "      <td>107.9</td>\n",
              "      <td>...</td>\n",
              "      <td>152</td>\n",
              "      <td>idi</td>\n",
              "      <td>3.70</td>\n",
              "      <td>3.52</td>\n",
              "      <td>21.0</td>\n",
              "      <td>95.0</td>\n",
              "      <td>4150.0</td>\n",
              "      <td>28</td>\n",
              "      <td>33</td>\n",
              "      <td>17950.0</td>\n",
              "    </tr>\n",
              "    <tr>\n",
              "      <th>154</th>\n",
              "      <td>0</td>\n",
              "      <td>91.0</td>\n",
              "      <td>toyota</td>\n",
              "      <td>diesel</td>\n",
              "      <td>std</td>\n",
              "      <td>four</td>\n",
              "      <td>sedan</td>\n",
              "      <td>fwd</td>\n",
              "      <td>front</td>\n",
              "      <td>95.7</td>\n",
              "      <td>...</td>\n",
              "      <td>110</td>\n",
              "      <td>idi</td>\n",
              "      <td>3.27</td>\n",
              "      <td>3.35</td>\n",
              "      <td>22.5</td>\n",
              "      <td>56.0</td>\n",
              "      <td>4500.0</td>\n",
              "      <td>34</td>\n",
              "      <td>36</td>\n",
              "      <td>7898.0</td>\n",
              "    </tr>\n",
              "    <tr>\n",
              "      <th>155</th>\n",
              "      <td>0</td>\n",
              "      <td>91.0</td>\n",
              "      <td>toyota</td>\n",
              "      <td>diesel</td>\n",
              "      <td>std</td>\n",
              "      <td>four</td>\n",
              "      <td>hatchback</td>\n",
              "      <td>fwd</td>\n",
              "      <td>front</td>\n",
              "      <td>95.7</td>\n",
              "      <td>...</td>\n",
              "      <td>110</td>\n",
              "      <td>idi</td>\n",
              "      <td>3.27</td>\n",
              "      <td>3.35</td>\n",
              "      <td>22.5</td>\n",
              "      <td>56.0</td>\n",
              "      <td>4500.0</td>\n",
              "      <td>38</td>\n",
              "      <td>47</td>\n",
              "      <td>7788.0</td>\n",
              "    </tr>\n",
              "    <tr>\n",
              "      <th>170</th>\n",
              "      <td>-1</td>\n",
              "      <td>65.0</td>\n",
              "      <td>toyota</td>\n",
              "      <td>diesel</td>\n",
              "      <td>turbo</td>\n",
              "      <td>four</td>\n",
              "      <td>sedan</td>\n",
              "      <td>fwd</td>\n",
              "      <td>front</td>\n",
              "      <td>102.4</td>\n",
              "      <td>...</td>\n",
              "      <td>110</td>\n",
              "      <td>idi</td>\n",
              "      <td>3.27</td>\n",
              "      <td>3.35</td>\n",
              "      <td>22.5</td>\n",
              "      <td>73.0</td>\n",
              "      <td>4500.0</td>\n",
              "      <td>30</td>\n",
              "      <td>33</td>\n",
              "      <td>10698.0</td>\n",
              "    </tr>\n",
              "    <tr>\n",
              "      <th>178</th>\n",
              "      <td>2</td>\n",
              "      <td>122.0</td>\n",
              "      <td>volkswagen</td>\n",
              "      <td>diesel</td>\n",
              "      <td>std</td>\n",
              "      <td>two</td>\n",
              "      <td>sedan</td>\n",
              "      <td>fwd</td>\n",
              "      <td>front</td>\n",
              "      <td>97.3</td>\n",
              "      <td>...</td>\n",
              "      <td>97</td>\n",
              "      <td>idi</td>\n",
              "      <td>3.01</td>\n",
              "      <td>3.40</td>\n",
              "      <td>23.0</td>\n",
              "      <td>52.0</td>\n",
              "      <td>4800.0</td>\n",
              "      <td>37</td>\n",
              "      <td>46</td>\n",
              "      <td>7775.0</td>\n",
              "    </tr>\n",
              "    <tr>\n",
              "      <th>180</th>\n",
              "      <td>2</td>\n",
              "      <td>94.0</td>\n",
              "      <td>volkswagen</td>\n",
              "      <td>diesel</td>\n",
              "      <td>std</td>\n",
              "      <td>four</td>\n",
              "      <td>sedan</td>\n",
              "      <td>fwd</td>\n",
              "      <td>front</td>\n",
              "      <td>97.3</td>\n",
              "      <td>...</td>\n",
              "      <td>97</td>\n",
              "      <td>idi</td>\n",
              "      <td>3.01</td>\n",
              "      <td>3.40</td>\n",
              "      <td>23.0</td>\n",
              "      <td>52.0</td>\n",
              "      <td>4800.0</td>\n",
              "      <td>37</td>\n",
              "      <td>46</td>\n",
              "      <td>7995.0</td>\n",
              "    </tr>\n",
              "    <tr>\n",
              "      <th>183</th>\n",
              "      <td>2</td>\n",
              "      <td>94.0</td>\n",
              "      <td>volkswagen</td>\n",
              "      <td>diesel</td>\n",
              "      <td>turbo</td>\n",
              "      <td>four</td>\n",
              "      <td>sedan</td>\n",
              "      <td>fwd</td>\n",
              "      <td>front</td>\n",
              "      <td>97.3</td>\n",
              "      <td>...</td>\n",
              "      <td>97</td>\n",
              "      <td>idi</td>\n",
              "      <td>3.01</td>\n",
              "      <td>3.40</td>\n",
              "      <td>23.0</td>\n",
              "      <td>68.0</td>\n",
              "      <td>4500.0</td>\n",
              "      <td>37</td>\n",
              "      <td>42</td>\n",
              "      <td>9495.0</td>\n",
              "    </tr>\n",
              "    <tr>\n",
              "      <th>188</th>\n",
              "      <td>0</td>\n",
              "      <td>NaN</td>\n",
              "      <td>volkswagen</td>\n",
              "      <td>diesel</td>\n",
              "      <td>turbo</td>\n",
              "      <td>four</td>\n",
              "      <td>sedan</td>\n",
              "      <td>fwd</td>\n",
              "      <td>front</td>\n",
              "      <td>100.4</td>\n",
              "      <td>...</td>\n",
              "      <td>97</td>\n",
              "      <td>idi</td>\n",
              "      <td>3.01</td>\n",
              "      <td>3.40</td>\n",
              "      <td>23.0</td>\n",
              "      <td>68.0</td>\n",
              "      <td>4500.0</td>\n",
              "      <td>33</td>\n",
              "      <td>38</td>\n",
              "      <td>13845.0</td>\n",
              "    </tr>\n",
              "    <tr>\n",
              "      <th>199</th>\n",
              "      <td>-1</td>\n",
              "      <td>95.0</td>\n",
              "      <td>volvo</td>\n",
              "      <td>diesel</td>\n",
              "      <td>turbo</td>\n",
              "      <td>four</td>\n",
              "      <td>sedan</td>\n",
              "      <td>rwd</td>\n",
              "      <td>front</td>\n",
              "      <td>109.1</td>\n",
              "      <td>...</td>\n",
              "      <td>145</td>\n",
              "      <td>idi</td>\n",
              "      <td>3.01</td>\n",
              "      <td>3.40</td>\n",
              "      <td>23.0</td>\n",
              "      <td>106.0</td>\n",
              "      <td>4800.0</td>\n",
              "      <td>26</td>\n",
              "      <td>27</td>\n",
              "      <td>22470.0</td>\n",
              "    </tr>\n",
              "  </tbody>\n",
              "</table>\n",
              "<p>27 rows × 26 columns</p>\n",
              "</div>\n",
              "      <button class=\"colab-df-convert\" onclick=\"convertToInteractive('df-e49c5d46-b56b-40dd-8295-0c008f2eac0b')\"\n",
              "              title=\"Convert this dataframe to an interactive table.\"\n",
              "              style=\"display:none;\">\n",
              "        \n",
              "  <svg xmlns=\"http://www.w3.org/2000/svg\" height=\"24px\"viewBox=\"0 0 24 24\"\n",
              "       width=\"24px\">\n",
              "    <path d=\"M0 0h24v24H0V0z\" fill=\"none\"/>\n",
              "    <path d=\"M18.56 5.44l.94 2.06.94-2.06 2.06-.94-2.06-.94-.94-2.06-.94 2.06-2.06.94zm-11 1L8.5 8.5l.94-2.06 2.06-.94-2.06-.94L8.5 2.5l-.94 2.06-2.06.94zm10 10l.94 2.06.94-2.06 2.06-.94-2.06-.94-.94-2.06-.94 2.06-2.06.94z\"/><path d=\"M17.41 7.96l-1.37-1.37c-.4-.4-.92-.59-1.43-.59-.52 0-1.04.2-1.43.59L10.3 9.45l-7.72 7.72c-.78.78-.78 2.05 0 2.83L4 21.41c.39.39.9.59 1.41.59.51 0 1.02-.2 1.41-.59l7.78-7.78 2.81-2.81c.8-.78.8-2.07 0-2.86zM5.41 20L4 18.59l7.72-7.72 1.47 1.35L5.41 20z\"/>\n",
              "  </svg>\n",
              "      </button>\n",
              "      \n",
              "  <style>\n",
              "    .colab-df-container {\n",
              "      display:flex;\n",
              "      flex-wrap:wrap;\n",
              "      gap: 12px;\n",
              "    }\n",
              "\n",
              "    .colab-df-convert {\n",
              "      background-color: #E8F0FE;\n",
              "      border: none;\n",
              "      border-radius: 50%;\n",
              "      cursor: pointer;\n",
              "      display: none;\n",
              "      fill: #1967D2;\n",
              "      height: 32px;\n",
              "      padding: 0 0 0 0;\n",
              "      width: 32px;\n",
              "    }\n",
              "\n",
              "    .colab-df-convert:hover {\n",
              "      background-color: #E2EBFA;\n",
              "      box-shadow: 0px 1px 2px rgba(60, 64, 67, 0.3), 0px 1px 3px 1px rgba(60, 64, 67, 0.15);\n",
              "      fill: #174EA6;\n",
              "    }\n",
              "\n",
              "    [theme=dark] .colab-df-convert {\n",
              "      background-color: #3B4455;\n",
              "      fill: #D2E3FC;\n",
              "    }\n",
              "\n",
              "    [theme=dark] .colab-df-convert:hover {\n",
              "      background-color: #434B5C;\n",
              "      box-shadow: 0px 1px 3px 1px rgba(0, 0, 0, 0.15);\n",
              "      filter: drop-shadow(0px 1px 2px rgba(0, 0, 0, 0.3));\n",
              "      fill: #FFFFFF;\n",
              "    }\n",
              "  </style>\n",
              "\n",
              "      <script>\n",
              "        const buttonEl =\n",
              "          document.querySelector('#df-e49c5d46-b56b-40dd-8295-0c008f2eac0b button.colab-df-convert');\n",
              "        buttonEl.style.display =\n",
              "          google.colab.kernel.accessAllowed ? 'block' : 'none';\n",
              "\n",
              "        async function convertToInteractive(key) {\n",
              "          const element = document.querySelector('#df-e49c5d46-b56b-40dd-8295-0c008f2eac0b');\n",
              "          const dataTable =\n",
              "            await google.colab.kernel.invokeFunction('convertToInteractive',\n",
              "                                                     [key], {});\n",
              "          if (!dataTable) return;\n",
              "\n",
              "          const docLinkHtml = 'Like what you see? Visit the ' +\n",
              "            '<a target=\"_blank\" href=https://colab.research.google.com/notebooks/data_table.ipynb>data table notebook</a>'\n",
              "            + ' to learn more about interactive tables.';\n",
              "          element.innerHTML = '';\n",
              "          dataTable['output_type'] = 'display_data';\n",
              "          await google.colab.output.renderOutput(dataTable, element);\n",
              "          const docLink = document.createElement('div');\n",
              "          docLink.innerHTML = docLinkHtml;\n",
              "          element.appendChild(docLink);\n",
              "        }\n",
              "      </script>\n",
              "    </div>\n",
              "  </div>\n",
              "  "
            ]
          },
          "metadata": {},
          "execution_count": 32
        }
      ]
    },
    {
      "cell_type": "markdown",
      "source": [
        "##Interacción"
      ],
      "metadata": {
        "id": "9Pr0HwW-lxdb"
      }
    },
    {
      "cell_type": "markdown",
      "source": [
        "**Variables numéricas**\n",
        "\n",
        "Para evaluar la interacción entre las variables numéricas predictoras y la variable objetivo, podemos utilizar una matriz de correlación.\n"
      ],
      "metadata": {
        "id": "sQZnJDihruH0"
      }
    },
    {
      "cell_type": "code",
      "source": [
        "mask =np.ones_like(data.corr(), dtype=bool)\n",
        "mask[:,-1] = False"
      ],
      "metadata": {
        "id": "jJWkJj-IsNwO"
      },
      "execution_count": 33,
      "outputs": []
    },
    {
      "cell_type": "code",
      "source": [
        "plt.figure(figsize=(16,8))\n",
        "sns.heatmap(data.corr(), mask=mask, annot=True, linewidths=0.1, cmap = 'Blues')\n",
        "plt.title('Matriz de correlación para variables numéricas.')\n",
        "plt.show()"
      ],
      "metadata": {
        "colab": {
          "base_uri": "https://localhost:8080/",
          "height": 591
        },
        "id": "DSgIjYqTrtV8",
        "outputId": "c5c5473c-c11d-403e-92d3-a75bb085128c"
      },
      "execution_count": 34,
      "outputs": [
        {
          "output_type": "display_data",
          "data": {
            "text/plain": [
              "<Figure size 1152x576 with 2 Axes>"
            ],
            "image/png": "[encoded data removed]"
          },
          "metadata": {}
        }
      ]
    },
    {
      "cell_type": "markdown",
      "source": [
        "Este mapa nos muestra que existen algunas variables con una alta correlación con la variable objetivo, estas son:\n",
        "* length\n",
        "* width \n",
        "* curb-weight \n",
        "* engine-size \n",
        "* horsepower \n",
        "* city-mpg \n",
        "* highway-mpg\n",
        "\n",
        "Las primeras tres variables están relacionadas al tamaño del vehículo e indican que, a mayor tamaño, más material se utiliza para la construcción del coche y por tanto el precio aumenta.\n",
        "\n",
        "Las siguientes dos están relacionadas con el motor del coche e indican que, a mayor tamaño de motor y mayor potencia, el precio aumenta.\n",
        "\n",
        "Las últimas dos indican que, a menor eficiencia de combustible, el precio aumenta, esto se puede entender pues a mayor potencia de motor, menor rendimiento tiene el combustible.\n"
      ],
      "metadata": {
        "id": "9oyIiXL8xOXi"
      }
    },
    {
      "cell_type": "markdown",
      "source": [
        "**Variables categóricas**\n",
        "\n",
        "Para obtener una idea de la interacción de las variables categóricas con la variable objetivo, utilizaremos de igual forma una matriz de correlación, pero codificando antes estas variables categóricas.\n"
      ],
      "metadata": {
        "id": "e2YGDynn0_rK"
      }
    },
    {
      "cell_type": "code",
      "source": [
        "data_cat =  data.loc[:,categoricas]\n",
        "data_cat['price'] = data['price']\n",
        "data_cat = pd.get_dummies(data_cat,drop_first=False).corr()"
      ],
      "metadata": {
        "id": "LKsG8hLS1icC"
      },
      "execution_count": 35,
      "outputs": []
    },
    {
      "cell_type": "markdown",
      "source": [
        "El utilizar este método para revisar la interacción entre variables categóricas con una variable numérica permite darnos una idea de cuánto impacto tiene la existencia de la variable categórica en el valor de la variable numérica."
      ],
      "metadata": {
        "id": "id_VrEWaIH4k"
      }
    },
    {
      "cell_type": "code",
      "source": [
        "mask =np.ones_like(data_cat.corr(), dtype=bool)\n",
        "mask[:,0] = False"
      ],
      "metadata": {
        "id": "w5d9WPZ91rUP"
      },
      "execution_count": 36,
      "outputs": []
    },
    {
      "cell_type": "code",
      "source": [
        "plt.figure(figsize=(16,8))\n",
        "sns.heatmap(data_cat.corr(), mask=mask, linewidths=0.1, cmap = 'Oranges')\n",
        "plt.title('Matriz de correlación para variables categóricas.')\n",
        "plt.show()"
      ],
      "metadata": {
        "colab": {
          "base_uri": "https://localhost:8080/",
          "height": 627
        },
        "id": "VCthrnGA2sGL",
        "outputId": "b994be3d-1d9e-4842-d6ee-bc43bd05704e"
      },
      "execution_count": 37,
      "outputs": [
        {
          "output_type": "display_data",
          "data": {
            "text/plain": [
              "<Figure size 1152x576 with 2 Axes>"
            ],
            "image/png": "[encoded data removed]"
          },
          "metadata": {}
        }
      ]
    },
    {
      "cell_type": "markdown",
      "source": [
        "Al ser muchas variables, se vuelve complicado observar las interacción pero de igual forma podemos obtener las que tienen mayor impacto."
      ],
      "metadata": {
        "id": "_pT7c5MaF7ti"
      }
    },
    {
      "cell_type": "code",
      "source": [
        "data_cat[abs(data_cat['price']) > .5]['price']"
      ],
      "metadata": {
        "colab": {
          "base_uri": "https://localhost:8080/"
        },
        "id": "RtKZKa66GEGY",
        "outputId": "7267040c-fd2b-4a59-e9d5-a65ab3f332cc"
      },
      "execution_count": 38,
      "outputs": [
        {
          "output_type": "execute_result",
          "data": {
            "text/plain": [
              "price                    1.000000\n",
              "make_mercedes-benz       0.524953\n",
              "drive-wheels_fwd        -0.595979\n",
              "drive-wheels_rwd         0.637522\n",
              "num-of-cylinders_four   -0.691968\n",
              "fuel-system_mpfi         0.509698\n",
              "Name: price, dtype: float64"
            ]
          },
          "metadata": {},
          "execution_count": 38
        }
      ]
    },
    {
      "cell_type": "markdown",
      "source": [
        "##Variable objetivo"
      ],
      "metadata": {
        "id": "9kiTBr1IIV9e"
      }
    },
    {
      "cell_type": "markdown",
      "source": [
        "La variable objetivo es el precio de los vehículos, la distribución de los datos de esta variable muestran que cerca del 50% de los registros se encuentran en un rango de 5000 a 10000 dólares."
      ],
      "metadata": {
        "id": "Ap80D0BlI0fm"
      }
    },
    {
      "cell_type": "code",
      "source": [
        "plt.figure(figsize = (16,5))\n",
        "sns.histplot(data, x='price',kde = True, binwidth = 2500)\n",
        "plt.title('Histograma de distribución de la variable price')\n",
        "plt.ylabel('Cuenta')\n",
        "plt.show()"
      ],
      "metadata": {
        "colab": {
          "base_uri": "https://localhost:8080/",
          "height": 355
        },
        "id": "ju-rt5ifIYZk",
        "outputId": "769c58f4-0905-43a0-8a9c-90d008730395"
      },
      "execution_count": 39,
      "outputs": [
        {
          "output_type": "display_data",
          "data": {
            "text/plain": [
              "<Figure size 1152x360 with 1 Axes>"
            ],
            "image/png": "[encoded data removed]"
          },
          "metadata": {}
        }
      ]
    },
    {
      "cell_type": "code",
      "source": [
        "plt.figure(figsize = (16,5))\n",
        "sns.histplot(data, x='price',kde = True,cumulative = True, binwidth = 2500)\n",
        "plt.title('Histograma de distribución acumulada de la variable price')\n",
        "plt.ylabel('Cuenta')\n",
        "plt.show()"
      ],
      "metadata": {
        "colab": {
          "base_uri": "https://localhost:8080/",
          "height": 355
        },
        "id": "7odKqv7hLRH-",
        "outputId": "93552203-7bd1-4f91-e191-d1cee107f44d"
      },
      "execution_count": 40,
      "outputs": [
        {
          "output_type": "display_data",
          "data": {
            "text/plain": [
              "<Figure size 1152x360 with 1 Axes>"
            ],
            "image/png": "[encoded data removed]"
          },
          "metadata": {}
        }
      ]
    },
    {
      "cell_type": "markdown",
      "source": [
        "Si revisamos los outliers de la variable objetivo, vemos que todos los autos de precios demasiado elevados son de marcas de lujo, como se esperaría."
      ],
      "metadata": {
        "id": "vew4rY-2H7A2"
      }
    },
    {
      "cell_type": "code",
      "source": [
        "sns.countplot(y = data.iloc[outliers['Outliers']['price'],:]['make'])\n",
        "plt.title('Fabricantes de automóviles con precios atípicos')\n",
        "plt.ylabel('Fabricante')\n",
        "plt.xlabel('Cuenta')\n",
        "plt.show()"
      ],
      "metadata": {
        "colab": {
          "base_uri": "https://localhost:8080/",
          "height": 301
        },
        "id": "ft6DRadH_A1u",
        "outputId": "5b32b4f9-f3f6-4e8f-a075-6ae93e310747"
      },
      "execution_count": 41,
      "outputs": [
        {
          "output_type": "display_data",
          "data": {
            "text/plain": [
              "<Figure size 432x288 with 1 Axes>"
            ],
            "image/png": "[encoded data removed]"
          },
          "metadata": {}
        }
      ]
    },
    {
      "cell_type": "markdown",
      "source": [
        "##Pipeline"
      ],
      "metadata": {
        "id": "sFTnuQWVfBdA"
      }
    },
    {
      "cell_type": "markdown",
      "source": [
        "Se utiliza un modelo de regresión lineal para realizar las predicciones del precio de los automóviles, para desarrollar e implementar el modelo se usaron los siguientes pasos:\n",
        "1.\tDividir el dataset en las variables objetivo y variables predictoras.\n",
        "2.\tSeparar el dataset en sets de entrenamiento y prueba.\n",
        "3.\tEncontrar en el set de entrenamiento, las variables que tienen outliers y las que no.\n",
        "4.\tDefinir una función para transformar las columnas, esto contiene el llenado de datos faltantes y la codificación de variables.\n",
        "5.\tEstablecimiento de un pipeline para transformar las columnas y aplicar el modelo.\n"
      ],
      "metadata": {
        "id": "g6Av7OyjNCrq"
      }
    },
    {
      "cell_type": "code",
      "source": [
        "y = data['price']\n",
        "X = data.iloc[:,:-1]\n",
        "reg = LinearRegression()"
      ],
      "metadata": {
        "id": "k3xXXlocfCPr"
      },
      "execution_count": 42,
      "outputs": []
    },
    {
      "cell_type": "code",
      "source": [
        "X_train, X_test, y_train, y_test = train_test_split(X, y,test_size=.2, random_state = 1)"
      ],
      "metadata": {
        "id": "zk7VMH4mqnPd"
      },
      "execution_count": 43,
      "outputs": []
    },
    {
      "cell_type": "code",
      "source": [
        "X_train['num-of-doors'] = X_train['num-of-doors'].fillna(X_train['num-of-doors'].value_counts().index[0])"
      ],
      "metadata": {
        "id": "3p7qqHXnT3wL"
      },
      "execution_count": 44,
      "outputs": []
    },
    {
      "cell_type": "code",
      "source": [
        "con_outliers, sin_outliers = outliers_list(X_train)"
      ],
      "metadata": {
        "id": "bvcShjQKUrvF"
      },
      "execution_count": 45,
      "outputs": []
    },
    {
      "cell_type": "code",
      "source": [
        "column_trans = make_column_transformer(\n",
        "    (OneHotEncoder(handle_unknown='ignore'), categoricas),\n",
        "    (SimpleImputer(strategy = \"median\"), con_outliers),\n",
        "    (SimpleImputer(strategy = \"mean\"), sin_outliers),\n",
        "    remainder='passthrough')"
      ],
      "metadata": {
        "id": "fXlYdTqjgG8U"
      },
      "execution_count": 46,
      "outputs": []
    },
    {
      "cell_type": "code",
      "source": [
        "pipe = make_pipeline(column_trans, reg)"
      ],
      "metadata": {
        "id": "kVPGWsB8jg76"
      },
      "execution_count": 47,
      "outputs": []
    },
    {
      "cell_type": "markdown",
      "source": [
        "Se utiliza .fit solo con los datos de entrenamiento, esto asegura que la transformación de datos sea únicamente con valores de entrenamiento conocidos y se evite data leakage.\n"
      ],
      "metadata": {
        "id": "oI3YOzwEU9BC"
      }
    },
    {
      "cell_type": "code",
      "source": [
        "pipe.fit(X_train,y_train)"
      ],
      "metadata": {
        "colab": {
          "base_uri": "https://localhost:8080/"
        },
        "id": "2jzDLJE6jsww",
        "outputId": "b95843f1-6ad0-453e-a672-97ca56bef08d"
      },
      "execution_count": 48,
      "outputs": [
        {
          "output_type": "execute_result",
          "data": {
            "text/plain": [
              "Pipeline(steps=[('columntransformer',\n",
              "                 ColumnTransformer(remainder='passthrough',\n",
              "                                   transformers=[('onehotencoder',\n",
              "                                                  OneHotEncoder(handle_unknown='ignore'),\n",
              "                                                  ['make', 'fuel-type',\n",
              "                                                   'aspiration', 'num-of-doors',\n",
              "                                                   'body-style', 'drive-wheels',\n",
              "                                                   'engine-location',\n",
              "                                                   'engine-type',\n",
              "                                                   'num-of-cylinders',\n",
              "                                                   'fuel-system']),\n",
              "                                                 ('simpleimputer-1',\n",
              "                                                  SimpleImputer(strategy='median'),\n",
              "                                                  ['normalized-losses',\n",
              "                                                   'wheel-base', 'length',\n",
              "                                                   'width', 'curb-weight',\n",
              "                                                   'engine-size', 'stroke',\n",
              "                                                   'compression-ratio',\n",
              "                                                   'horsepower', 'peak-rpm',\n",
              "                                                   'city-mpg', 'highway-mpg']),\n",
              "                                                 ('simpleimputer-2',\n",
              "                                                  SimpleImputer(),\n",
              "                                                  ['symboling', 'height',\n",
              "                                                   'bore'])])),\n",
              "                ('linearregression', LinearRegression())])"
            ]
          },
          "metadata": {},
          "execution_count": 48
        }
      ]
    },
    {
      "cell_type": "code",
      "source": [
        "y_predict = pipe.predict(X_test)"
      ],
      "metadata": {
        "id": "oOmgRzHBj1xl"
      },
      "execution_count": 49,
      "outputs": []
    },
    {
      "cell_type": "code",
      "source": [
        "prediccion = pd.DataFrame({'Prediccion':y_predict,'real':y_test})"
      ],
      "metadata": {
        "id": "dvMt0eNGm9R1"
      },
      "execution_count": 50,
      "outputs": []
    },
    {
      "cell_type": "code",
      "source": [
        "plt.figure(figsize=(10,8))\n",
        "sns.regplot(data = prediccion, x = 'Prediccion', y = 'real')"
      ],
      "metadata": {
        "colab": {
          "base_uri": "https://localhost:8080/",
          "height": 0
        },
        "id": "HrTWUTQwnDfy",
        "outputId": "78de8c31-9b39-4d39-b97d-3ee040adc1ec"
      },
      "execution_count": 51,
      "outputs": [
        {
          "output_type": "execute_result",
          "data": {
            "text/plain": [
              "<matplotlib.axes._subplots.AxesSubplot at 0x7f8b4a558dd0>"
            ]
          },
          "metadata": {},
          "execution_count": 51
        },
        {
          "output_type": "display_data",
          "data": {
            "text/plain": [
              "<Figure size 720x576 with 1 Axes>"
            ],
            "image/png": "[encoded data removed]"
          },
          "metadata": {}
        }
      ]
    },
    {
      "cell_type": "code",
      "source": [
        "print(\"RMSE: %.2f\" % (np.sqrt(metrics.mean_squared_error(y_predict, y_test))))\n",
        "print(\"MAE: %.2f\" % metrics.mean_absolute_error(y_predict, y_test))\n",
        "print(\"Coeficiente de determinación: %.2f\" % metrics.r2_score(y_predict, y_test))"
      ],
      "metadata": {
        "colab": {
          "base_uri": "https://localhost:8080/"
        },
        "id": "2i69g4a5kQOp",
        "outputId": "ad138bb4-28de-4f12-f23d-084ef7638bbb"
      },
      "execution_count": 52,
      "outputs": [
        {
          "output_type": "stream",
          "name": "stdout",
          "text": [
            "RMSE: 2097.99\n",
            "MAE: 1618.87\n",
            "Coeficiente de determinación: 0.92\n"
          ]
        }
      ]
    },
    {
      "cell_type": "code",
      "source": [
        "sns.histplot(y_test, cumulative = True)"
      ],
      "metadata": {
        "colab": {
          "base_uri": "https://localhost:8080/",
          "height": 0
        },
        "id": "hcZOzgvRPoqX",
        "outputId": "4b9adedd-abb6-4a29-ac75-a91bb530f2e9"
      },
      "execution_count": 53,
      "outputs": [
        {
          "output_type": "execute_result",
          "data": {
            "text/plain": [
              "<matplotlib.axes._subplots.AxesSubplot at 0x7f8b4a4a5490>"
            ]
          },
          "metadata": {},
          "execution_count": 53
        },
        {
          "output_type": "display_data",
          "data": {
            "text/plain": [
              "<Figure size 432x288 with 1 Axes>"
            ],
            "image/png": "[encoded data removed]"
          },
          "metadata": {}
        }
      ]
    },
    {
      "cell_type": "markdown",
      "source": [
        "Los resultados muestran que el error promedio entre las predicciones y los datos reales son de 1618.87 dolares por coche, que si bien puede parecer que no es mucho, cuando tomamos en cuenta que casi 1/3 de los datos se encuentran en el rango de 5000 - 7500 dolares, este error es considerable."
      ],
      "metadata": {
        "id": "mqrtZI9wnsSU"
      }
    }
  ]
}